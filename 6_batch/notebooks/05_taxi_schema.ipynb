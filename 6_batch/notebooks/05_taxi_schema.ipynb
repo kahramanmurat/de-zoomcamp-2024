{
 "cells": [
  {
   "cell_type": "code",
   "execution_count": 1,
   "id": "9605239c-cc03-4ee7-8ce2-851499f459d9",
   "metadata": {},
   "outputs": [],
   "source": [
    "import pyspark\n",
    "from pyspark.sql import SparkSession\n",
    "import pyspark.sql.functions as F"
   ]
  },
  {
   "cell_type": "code",
   "execution_count": 2,
   "id": "a8caeb37-0bb3-4f88-b774-86aeb07ac34b",
   "metadata": {},
   "outputs": [
    {
     "name": "stderr",
     "output_type": "stream",
     "text": [
      "Setting default log level to \"WARN\".\n",
      "To adjust logging level use sc.setLogLevel(newLevel). For SparkR, use setLogLevel(newLevel).\n"
     ]
    },
    {
     "name": "stdout",
     "output_type": "stream",
     "text": [
      "24/02/27 05:55:54 WARN NativeCodeLoader: Unable to load native-hadoop library for your platform... using builtin-java classes where applicable\n",
      "24/02/27 05:55:56 WARN Utils: Service 'SparkUI' could not bind on port 4040. Attempting port 4041.\n",
      "24/02/27 05:55:56 WARN Utils: Service 'SparkUI' could not bind on port 4041. Attempting port 4042.\n"
     ]
    }
   ],
   "source": [
    "spark = SparkSession.builder \\\n",
    "    .master(\"local[*]\") \\\n",
    "    .appName('test') \\\n",
    "    .getOrCreate()"
   ]
  },
  {
   "cell_type": "code",
   "execution_count": 3,
   "id": "ab83d15f-6142-4440-a38f-858077a4a665",
   "metadata": {},
   "outputs": [
    {
     "data": {
      "text/html": [
       "\n",
       "            <div>\n",
       "                <p><b>SparkSession - in-memory</b></p>\n",
       "                \n",
       "        <div>\n",
       "            <p><b>SparkContext</b></p>\n",
       "\n",
       "            <p><a href=\"http://de-zoomcamp-2024.us-east4-c.c.ny-taxi-2024.internal:4042\">Spark UI</a></p>\n",
       "\n",
       "            <dl>\n",
       "              <dt>Version</dt>\n",
       "                <dd><code>v3.3.2</code></dd>\n",
       "              <dt>Master</dt>\n",
       "                <dd><code>local[*]</code></dd>\n",
       "              <dt>AppName</dt>\n",
       "                <dd><code>test</code></dd>\n",
       "            </dl>\n",
       "        </div>\n",
       "        \n",
       "            </div>\n",
       "        "
      ],
      "text/plain": [
       "<pyspark.sql.session.SparkSession at 0x7f1062ac4be0>"
      ]
     },
     "execution_count": 3,
     "metadata": {},
     "output_type": "execute_result"
    }
   ],
   "source": [
    "spark"
   ]
  },
  {
   "cell_type": "code",
   "execution_count": 4,
   "id": "09f27199-31e7-463c-bc27-2323256c1fa8",
   "metadata": {},
   "outputs": [],
   "source": [
    "import pandas as pd"
   ]
  },
  {
   "cell_type": "code",
   "execution_count": 5,
   "id": "b17039a3-0b76-4160-afb1-62bb5f2ea90a",
   "metadata": {},
   "outputs": [],
   "source": [
    "from pyspark.sql import types\n"
   ]
  },
  {
   "cell_type": "code",
   "execution_count": 6,
   "id": "42f6b667-d435-43bc-9835-ee02604cb182",
   "metadata": {},
   "outputs": [],
   "source": [
    "green_schema = types.StructType([\n",
    "    types.StructField(\"VendorID\", types.IntegerType(), True),\n",
    "    types.StructField(\"lpep_pickup_datetime\", types.TimestampType(), True),\n",
    "    types.StructField(\"lpep_dropoff_datetime\", types.TimestampType(), True),\n",
    "    types.StructField(\"store_and_fwd_flag\", types.StringType(), True),\n",
    "    types.StructField(\"RatecodeID\", types.IntegerType(), True),\n",
    "    types.StructField(\"PULocationID\", types.IntegerType(), True),\n",
    "    types.StructField(\"DOLocationID\", types.IntegerType(), True),\n",
    "    types.StructField(\"passenger_count\", types.IntegerType(), True),\n",
    "    types.StructField(\"trip_distance\", types.DoubleType(), True),\n",
    "    types.StructField(\"fare_amount\", types.DoubleType(), True),\n",
    "    types.StructField(\"extra\", types.DoubleType(), True),\n",
    "    types.StructField(\"mta_tax\", types.DoubleType(), True),\n",
    "    types.StructField(\"tip_amount\", types.DoubleType(), True),\n",
    "    types.StructField(\"tolls_amount\", types.DoubleType(), True),\n",
    "    types.StructField(\"ehail_fee\", types.DoubleType(), True),\n",
    "    types.StructField(\"improvement_surcharge\", types.DoubleType(), True),\n",
    "    types.StructField(\"total_amount\", types.DoubleType(), True),\n",
    "    types.StructField(\"payment_type\", types.IntegerType(), True),\n",
    "    types.StructField(\"trip_type\", types.IntegerType(), True),\n",
    "    types.StructField(\"congestion_surcharge\", types.DoubleType(), True)\n",
    "])\n",
    "\n",
    "yellow_schema = types.StructType([\n",
    "    types.StructField(\"VendorID\", types.IntegerType(), True),\n",
    "    types.StructField(\"tpep_pickup_datetime\", types.TimestampType(), True),\n",
    "    types.StructField(\"tpep_dropoff_datetime\", types.TimestampType(), True),\n",
    "    types.StructField(\"passenger_count\", types.IntegerType(), True),\n",
    "    types.StructField(\"trip_distance\", types.DoubleType(), True),\n",
    "    types.StructField(\"RatecodeID\", types.IntegerType(), True),\n",
    "    types.StructField(\"store_and_fwd_flag\", types.StringType(), True),\n",
    "    types.StructField(\"PULocationID\", types.IntegerType(), True),\n",
    "    types.StructField(\"DOLocationID\", types.IntegerType(), True),\n",
    "    types.StructField(\"payment_type\", types.IntegerType(), True),\n",
    "    types.StructField(\"fare_amount\", types.DoubleType(), True),\n",
    "    types.StructField(\"extra\", types.DoubleType(), True),\n",
    "    types.StructField(\"mta_tax\", types.DoubleType(), True),\n",
    "    types.StructField(\"tip_amount\", types.DoubleType(), True),\n",
    "    types.StructField(\"tolls_amount\", types.DoubleType(), True),\n",
    "    types.StructField(\"improvement_surcharge\", types.DoubleType(), True),\n",
    "    types.StructField(\"total_amount\", types.DoubleType(), True),\n",
    "    types.StructField(\"congestion_surcharge\", types.DoubleType(), True)\n",
    "])"
   ]
  },
  {
   "cell_type": "code",
   "execution_count": 8,
   "id": "d23bc8ae-f722-4dfb-9152-e7757af50f78",
   "metadata": {},
   "outputs": [
    {
     "name": "stdout",
     "output_type": "stream",
     "text": [
      "processing data for 2021/1\n",
      "processing data for 2021/2\n",
      "processing data for 2021/3\n",
      "processing data for 2021/4\n",
      "processing data for 2021/5\n",
      "processing data for 2021/6\n",
      "processing data for 2021/7\n",
      "processing data for 2021/8\n",
      "processing data for 2021/9\n",
      "processing data for 2021/10\n",
      "processing data for 2021/11\n",
      "processing data for 2021/12\n"
     ]
    }
   ],
   "source": [
    "year = 2021\n",
    "\n",
    "for month in range(1, 13):\n",
    "    print(f'processing data for {year}/{month}')\n",
    "\n",
    "    input_path = f'../code/data/raw/green/{year}/{month:02d}/'\n",
    "    output_path = f'../code/data/pq/green/{year}/{month:02d}/'\n",
    "\n",
    "    df_green = spark.read.parquet(input_path)\n",
    "    df_green = df_green.withColumn(\"VendorID\", F.col(\"VendorID\").cast(\"int\")) \\\n",
    "                       .withColumn(\"lpep_pickup_datetime\", F.col(\"lpep_pickup_datetime\").cast(\"timestamp\")) \\\n",
    "                       .withColumn(\"lpep_dropoff_datetime\", F.col(\"lpep_dropoff_datetime\").cast(\"timestamp\")) \\\n",
    "                       .withColumn(\"store_and_fwd_flag\", F.col(\"store_and_fwd_flag\").cast(\"string\")) \\\n",
    "                       .withColumn(\"RatecodeID\", F.col(\"RatecodeID\").cast(\"int\")) \\\n",
    "                       .withColumn(\"PULocationID\", F.col(\"PULocationID\").cast(\"int\")) \\\n",
    "                       .withColumn(\"DOLocationID\", F.col(\"DOLocationID\").cast(\"int\")) \\\n",
    "                       .withColumn(\"passenger_count\", F.col(\"passenger_count\").cast(\"int\")) \\\n",
    "                       .withColumn(\"trip_distance\", F.col(\"trip_distance\").cast(\"double\")) \\\n",
    "                       .withColumn(\"fare_amount\", F.col(\"fare_amount\").cast(\"double\")) \\\n",
    "                       .withColumn(\"extra\", F.col(\"extra\").cast(\"double\")) \\\n",
    "                       .withColumn(\"mta_tax\", F.col(\"mta_tax\").cast(\"double\")) \\\n",
    "                       .withColumn(\"tip_amount\", F.col(\"tip_amount\").cast(\"double\")) \\\n",
    "                       .withColumn(\"tolls_amount\", F.col(\"tolls_amount\").cast(\"double\")) \\\n",
    "                       .withColumn(\"ehail_fee\", F.col(\"ehail_fee\").cast(\"double\")) \\\n",
    "                       .withColumn(\"improvement_surcharge\", F.col(\"improvement_surcharge\").cast(\"double\")) \\\n",
    "                       .withColumn(\"total_amount\", F.col(\"total_amount\").cast(\"double\")) \\\n",
    "                       .withColumn(\"payment_type\", F.col(\"payment_type\").cast(\"int\")) \\\n",
    "                       .withColumn(\"trip_type\", F.col(\"trip_type\").cast(\"int\")) \\\n",
    "                       .withColumn(\"congestion_surcharge\", F.col(\"congestion_surcharge\").cast(\"double\"))\n",
    "\n",
    "\n",
    "    df_green \\\n",
    "        .repartition(4) \\\n",
    "        .write.parquet(output_path)"
   ]
  },
  {
   "cell_type": "code",
   "execution_count": 10,
   "id": "f7ecfe69-2955-4c61-9167-dd62f07298e0",
   "metadata": {},
   "outputs": [
    {
     "name": "stdout",
     "output_type": "stream",
     "text": [
      "processing data for 2021/1\n"
     ]
    },
    {
     "name": "stderr",
     "output_type": "stream",
     "text": [
      "                                                                                \r"
     ]
    },
    {
     "name": "stdout",
     "output_type": "stream",
     "text": [
      "processing data for 2021/2\n"
     ]
    },
    {
     "name": "stderr",
     "output_type": "stream",
     "text": [
      "                                                                                \r"
     ]
    },
    {
     "name": "stdout",
     "output_type": "stream",
     "text": [
      "processing data for 2021/3\n"
     ]
    },
    {
     "name": "stderr",
     "output_type": "stream",
     "text": [
      "                                                                                \r"
     ]
    },
    {
     "name": "stdout",
     "output_type": "stream",
     "text": [
      "processing data for 2021/4\n"
     ]
    },
    {
     "name": "stderr",
     "output_type": "stream",
     "text": [
      "                                                                                \r"
     ]
    },
    {
     "name": "stdout",
     "output_type": "stream",
     "text": [
      "processing data for 2021/5\n"
     ]
    },
    {
     "name": "stderr",
     "output_type": "stream",
     "text": [
      "                                                                                \r"
     ]
    },
    {
     "name": "stdout",
     "output_type": "stream",
     "text": [
      "processing data for 2021/6\n"
     ]
    },
    {
     "name": "stderr",
     "output_type": "stream",
     "text": [
      "                                                                                \r"
     ]
    },
    {
     "name": "stdout",
     "output_type": "stream",
     "text": [
      "processing data for 2021/7\n"
     ]
    },
    {
     "name": "stderr",
     "output_type": "stream",
     "text": [
      "                                                                                \r"
     ]
    },
    {
     "name": "stdout",
     "output_type": "stream",
     "text": [
      "processing data for 2021/8\n"
     ]
    },
    {
     "name": "stderr",
     "output_type": "stream",
     "text": [
      "                                                                                \r"
     ]
    },
    {
     "name": "stdout",
     "output_type": "stream",
     "text": [
      "processing data for 2021/9\n"
     ]
    },
    {
     "name": "stderr",
     "output_type": "stream",
     "text": [
      "                                                                                \r"
     ]
    },
    {
     "name": "stdout",
     "output_type": "stream",
     "text": [
      "processing data for 2021/10\n"
     ]
    },
    {
     "name": "stderr",
     "output_type": "stream",
     "text": [
      "                                                                                \r"
     ]
    },
    {
     "name": "stdout",
     "output_type": "stream",
     "text": [
      "processing data for 2021/11\n"
     ]
    },
    {
     "name": "stderr",
     "output_type": "stream",
     "text": [
      "                                                                                \r"
     ]
    },
    {
     "name": "stdout",
     "output_type": "stream",
     "text": [
      "processing data for 2021/12\n"
     ]
    },
    {
     "name": "stderr",
     "output_type": "stream",
     "text": [
      "                                                                                \r"
     ]
    }
   ],
   "source": [
    "year = 2021\n",
    "\n",
    "for month in range(1, 13):\n",
    "    print(f'processing data for {year}/{month}')\n",
    "\n",
    "    input_path = f'../code/data/raw/yellow/{year}/{month:02d}/'\n",
    "    output_path = f'../code/data/pq/yellow/{year}/{month:02d}/'\n",
    "\n",
    "    df_yellow = spark.read.parquet(input_path)\n",
    "    df_yellow = df_yellow.withColumn(\"VendorID\", F.col(\"VendorID\").cast(\"int\")) \\\n",
    "                       .withColumn(\"tpep_pickup_datetime\", F.col(\"tpep_pickup_datetime\").cast(\"timestamp\")) \\\n",
    "                       .withColumn(\"tpep_dropoff_datetime\", F.col(\"tpep_dropoff_datetime\").cast(\"timestamp\")) \\\n",
    "                       .withColumn(\"passenger_count\", F.col(\"passenger_count\").cast(\"int\")) \\\n",
    "                       .withColumn(\"trip_distance\", F.col(\"trip_distance\").cast(\"double\")) \\\n",
    "                       .withColumn(\"RatecodeID\", F.col(\"RatecodeID\").cast(\"int\")) \\\n",
    "                       .withColumn(\"store_and_fwd_flag\", F.col(\"store_and_fwd_flag\").cast(\"string\")) \\\n",
    "                       .withColumn(\"PULocationID\", F.col(\"PULocationID\").cast(\"int\")) \\\n",
    "                       .withColumn(\"DOLocationID\", F.col(\"DOLocationID\").cast(\"int\")) \\\n",
    "                       .withColumn(\"payment_type\", F.col(\"payment_type\").cast(\"int\")) \\\n",
    "                       .withColumn(\"fare_amount\", F.col(\"fare_amount\").cast(\"double\")) \\\n",
    "                       .withColumn(\"extra\", F.col(\"extra\").cast(\"double\")) \\\n",
    "                       .withColumn(\"mta_tax\", F.col(\"mta_tax\").cast(\"double\")) \\\n",
    "                       .withColumn(\"tip_amount\", F.col(\"tip_amount\").cast(\"double\")) \\\n",
    "                       .withColumn(\"tolls_amount\", F.col(\"tolls_amount\").cast(\"double\")) \\\n",
    "                       .withColumn(\"improvement_surcharge\", F.col(\"improvement_surcharge\").cast(\"double\")) \\\n",
    "                       .withColumn(\"total_amount\", F.col(\"total_amount\").cast(\"double\")) \\\n",
    "                       .withColumn(\"congestion_surcharge\", F.col(\"congestion_surcharge\").cast(\"double\"))\n",
    "\n",
    "\n",
    "    df_yellow \\\n",
    "        .repartition(4) \\\n",
    "        .write.parquet(output_path)"
   ]
  },
  {
   "cell_type": "code",
   "execution_count": 69,
   "id": "53a634a3-6227-4897-a37e-1949b38f33b4",
   "metadata": {},
   "outputs": [
    {
     "data": {
      "text/html": [
       "\n",
       "            <div>\n",
       "                <p><b>SparkSession - in-memory</b></p>\n",
       "                \n",
       "        <div>\n",
       "            <p><b>SparkContext</b></p>\n",
       "\n",
       "            <p><a href=\"http://2b2a0b49-b73e-4e2e-b889-ebc8a06b2479.internal.cloudapp.net:4041\">Spark UI</a></p>\n",
       "\n",
       "            <dl>\n",
       "              <dt>Version</dt>\n",
       "                <dd><code>v3.3.2</code></dd>\n",
       "              <dt>Master</dt>\n",
       "                <dd><code>local[*]</code></dd>\n",
       "              <dt>AppName</dt>\n",
       "                <dd><code>test</code></dd>\n",
       "            </dl>\n",
       "        </div>\n",
       "        \n",
       "            </div>\n",
       "        "
      ],
      "text/plain": [
       "<pyspark.sql.session.SparkSession at 0x7fabf4463280>"
      ]
     },
     "execution_count": 69,
     "metadata": {},
     "output_type": "execute_result"
    }
   ],
   "source": [
    "spark"
   ]
  },
  {
   "cell_type": "code",
   "execution_count": null,
   "id": "762b376f-b3e8-454d-b97c-940b110bbeea",
   "metadata": {},
   "outputs": [],
   "source": []
  }
 ],
 "metadata": {
  "kernelspec": {
   "display_name": "Python 3 (ipykernel)",
   "language": "python",
   "name": "python3"
  },
  "language_info": {
   "codemirror_mode": {
    "name": "ipython",
    "version": 3
   },
   "file_extension": ".py",
   "mimetype": "text/x-python",
   "name": "python",
   "nbconvert_exporter": "python",
   "pygments_lexer": "ipython3",
   "version": "3.9.18"
  }
 },
 "nbformat": 4,
 "nbformat_minor": 5
}
