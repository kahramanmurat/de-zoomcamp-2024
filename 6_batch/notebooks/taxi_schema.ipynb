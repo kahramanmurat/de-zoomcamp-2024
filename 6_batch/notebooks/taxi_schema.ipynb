{
 "cells": [
  {
   "cell_type": "code",
   "execution_count": 1,
   "id": "9605239c-cc03-4ee7-8ce2-851499f459d9",
   "metadata": {},
   "outputs": [],
   "source": [
    "import pyspark"
   ]
  },
  {
   "cell_type": "code",
   "execution_count": 2,
   "id": "187e5e46-ae94-4333-952a-eb2ad77356b7",
   "metadata": {},
   "outputs": [
    {
     "data": {
      "text/plain": [
       "'3.3.2'"
      ]
     },
     "execution_count": 2,
     "metadata": {},
     "output_type": "execute_result"
    }
   ],
   "source": [
    "pyspark.__version__"
   ]
  },
  {
   "cell_type": "code",
   "execution_count": 3,
   "id": "4d1483ce-da09-407d-bc68-5f1a8c932548",
   "metadata": {},
   "outputs": [],
   "source": [
    "from pyspark.sql import SparkSession"
   ]
  },
  {
   "cell_type": "code",
   "execution_count": 35,
   "id": "3aa046c0-a3a8-4674-9908-606355c21e66",
   "metadata": {},
   "outputs": [],
   "source": [
    "spark = SparkSession.builder \\\n",
    "    .master(\"local[*]\") \\\n",
    "    .appName('test') \\\n",
    "    .getOrCreate()"
   ]
  },
  {
   "cell_type": "code",
   "execution_count": 36,
   "id": "34b6af18-645f-454a-827f-0c4eeac44309",
   "metadata": {},
   "outputs": [],
   "source": [
    "df_green=spark.read \\\n",
    "        .option(\"header\",\"true\") \\\n",
    "        .parquet('../code/data/raw/green/2021/01/')"
   ]
  },
  {
   "cell_type": "code",
   "execution_count": 37,
   "id": "3e90e831-1cfd-4807-bf4d-f61f24f930bb",
   "metadata": {},
   "outputs": [
    {
     "name": "stdout",
     "output_type": "stream",
     "text": [
      "root\n",
      " |-- VendorID: long (nullable = true)\n",
      " |-- lpep_pickup_datetime: timestamp (nullable = true)\n",
      " |-- lpep_dropoff_datetime: timestamp (nullable = true)\n",
      " |-- store_and_fwd_flag: string (nullable = true)\n",
      " |-- RatecodeID: double (nullable = true)\n",
      " |-- PULocationID: long (nullable = true)\n",
      " |-- DOLocationID: long (nullable = true)\n",
      " |-- passenger_count: double (nullable = true)\n",
      " |-- trip_distance: double (nullable = true)\n",
      " |-- fare_amount: double (nullable = true)\n",
      " |-- extra: double (nullable = true)\n",
      " |-- mta_tax: double (nullable = true)\n",
      " |-- tip_amount: double (nullable = true)\n",
      " |-- tolls_amount: double (nullable = true)\n",
      " |-- ehail_fee: integer (nullable = true)\n",
      " |-- improvement_surcharge: double (nullable = true)\n",
      " |-- total_amount: double (nullable = true)\n",
      " |-- payment_type: double (nullable = true)\n",
      " |-- trip_type: double (nullable = true)\n",
      " |-- congestion_surcharge: double (nullable = true)\n",
      "\n"
     ]
    }
   ],
   "source": [
    "df_green.printSchema()"
   ]
  },
  {
   "cell_type": "code",
   "execution_count": 38,
   "id": "a2ee943a-f0e2-4496-a7cc-77edbe2f7090",
   "metadata": {},
   "outputs": [],
   "source": [
    "from pyspark.sql import types"
   ]
  },
  {
   "cell_type": "code",
   "execution_count": 39,
   "id": "13b152da-30d6-418f-b78a-840931af5e93",
   "metadata": {},
   "outputs": [],
   "source": [
    "green_schema = types.StructType([\n",
    "    types.StructField(\"VendorID\", types.IntegerType(), True),\n",
    "    types.StructField(\"lpep_pickup_datetime\", types.TimestampType(), True),\n",
    "    types.StructField(\"lpep_dropoff_datetime\", types.TimestampType(), True),\n",
    "    types.StructField(\"store_and_fwd_flag\", types.StringType(), True),\n",
    "    types.StructField(\"RatecodeID\", types.IntegerType(), True),\n",
    "    types.StructField(\"PULocationID\", types.IntegerType(), True),\n",
    "    types.StructField(\"DOLocationID\", types.IntegerType(), True),\n",
    "    types.StructField(\"passenger_count\", types.IntegerType(), True),\n",
    "    types.StructField(\"trip_distance\", types.DoubleType(), True),\n",
    "    types.StructField(\"fare_amount\", types.DoubleType(), True),\n",
    "    types.StructField(\"extra\", types.DoubleType(), True),\n",
    "    types.StructField(\"mta_tax\", types.DoubleType(), True),\n",
    "    types.StructField(\"tip_amount\", types.DoubleType(), True),\n",
    "    types.StructField(\"tolls_amount\", types.DoubleType(), True),\n",
    "    types.StructField(\"ehail_fee\", types.DoubleType(), True),\n",
    "    types.StructField(\"improvement_surcharge\", types.DoubleType(), True),\n",
    "    types.StructField(\"total_amount\", types.DoubleType(), True),\n",
    "    types.StructField(\"payment_type\", types.IntegerType(), True),\n",
    "    types.StructField(\"trip_type\", types.IntegerType(), True),\n",
    "    types.StructField(\"congestion_surcharge\", types.DoubleType(), True)\n",
    "])\n",
    "\n",
    "yellow_schema = types.StructType([\n",
    "    types.StructField(\"VendorID\", types.IntegerType(), True),\n",
    "    types.StructField(\"tpep_pickup_datetime\", types.TimestampType(), True),\n",
    "    types.StructField(\"tpep_dropoff_datetime\", types.TimestampType(), True),\n",
    "    types.StructField(\"passenger_count\", types.IntegerType(), True),\n",
    "    types.StructField(\"trip_distance\", types.DoubleType(), True),\n",
    "    types.StructField(\"RatecodeID\", types.IntegerType(), True),\n",
    "    types.StructField(\"store_and_fwd_flag\", types.StringType(), True),\n",
    "    types.StructField(\"PULocationID\", types.IntegerType(), True),\n",
    "    types.StructField(\"DOLocationID\", types.IntegerType(), True),\n",
    "    types.StructField(\"payment_type\", types.IntegerType(), True),\n",
    "    types.StructField(\"fare_amount\", types.DoubleType(), True),\n",
    "    types.StructField(\"extra\", types.DoubleType(), True),\n",
    "    types.StructField(\"mta_tax\", types.DoubleType(), True),\n",
    "    types.StructField(\"tip_amount\", types.DoubleType(), True),\n",
    "    types.StructField(\"tolls_amount\", types.DoubleType(), True),\n",
    "    types.StructField(\"improvement_surcharge\", types.DoubleType(), True),\n",
    "    types.StructField(\"total_amount\", types.DoubleType(), True),\n",
    "    types.StructField(\"congestion_surcharge\", types.DoubleType(), True)\n",
    "])"
   ]
  },
  {
   "cell_type": "code",
   "execution_count": 55,
   "id": "c39f6031-6ab1-4f6d-baea-bf2fbe21f235",
   "metadata": {},
   "outputs": [],
   "source": [
    "year = 2020\n",
    "\n",
    "for month in range(1, 13):\n",
    "\n",
    "    input_path = f\"../code/data/raw/green/{year}/{month:02d}/\"\n",
    "    output_path = f\"../code/data/pq/green/{year}/{month:02d}/\"\n",
    "\n",
    "    df_green = spark.read.parquet(input_path)  # Read Parquet files\n",
    "\n",
    "    # Manually apply schema to each column\n",
    "    for field in green_schema.fields:\n",
    "        df_green = df_green.withColumn(field.name, df_green[field.name].cast(field.dataType))\n",
    "\n",
    "    df_green.repartition(4).write.parquet(output_path)  # Repartition and write\n"
   ]
  },
  {
   "cell_type": "code",
   "execution_count": 56,
   "id": "b40a6323-6325-4632-9e46-004e7d35ae19",
   "metadata": {},
   "outputs": [],
   "source": [
    "year = 2021\n",
    "\n",
    "for month in range(1, 13):\n",
    "\n",
    "    input_path = f\"../code/data/raw/green/{year}/{month:02d}/\"\n",
    "    output_path = f\"../code/data/pq/green/{year}/{month:02d}/\"\n",
    "\n",
    "    df_green = spark.read.parquet(input_path)  # Read Parquet files\n",
    "\n",
    "    # Manually apply schema to each column\n",
    "    for field in green_schema.fields:\n",
    "        df_green = df_green.withColumn(field.name, df_green[field.name].cast(field.dataType))\n",
    "\n",
    "    df_green.repartition(4).write.parquet(output_path)  # Repartition and write\n"
   ]
  },
  {
   "cell_type": "code",
   "execution_count": 57,
   "id": "a58e6e1a-9d3e-44af-b9f1-06b949ad3eee",
   "metadata": {},
   "outputs": [
    {
     "name": "stderr",
     "output_type": "stream",
     "text": [
      "                                                                                \r"
     ]
    }
   ],
   "source": [
    "year = 2020\n",
    "\n",
    "for month in range(1, 13):\n",
    "\n",
    "    input_path = f\"../code/data/raw/yellow/{year}/{month:02d}/\"\n",
    "    output_path = f\"../code/data/pq/yellow/{year}/{month:02d}/\"\n",
    "\n",
    "    df_yellow = spark.read.parquet(input_path)  # Read Parquet files\n",
    "\n",
    "    # Manually apply schema to each column\n",
    "    for field in yellow_schema.fields:\n",
    "        df_yellow = df_yellow.withColumn(field.name, df_yellow[field.name].cast(field.dataType))\n",
    "\n",
    "    df_yellow.repartition(4).write.parquet(output_path)  # Repartition and write\n"
   ]
  },
  {
   "cell_type": "code",
   "execution_count": null,
   "id": "47a3bf7c-b679-4cc0-bbd9-be33c6331fb3",
   "metadata": {},
   "outputs": [
    {
     "name": "stderr",
     "output_type": "stream",
     "text": [
      "                                                                                \r"
     ]
    }
   ],
   "source": [
    "year = 2021\n",
    "\n",
    "for month in range(1, 13):\n",
    "\n",
    "    input_path = f\"../code/data/raw/yellow/{year}/{month:02d}/\"\n",
    "    output_path = f\"../code/data/pq/yellow/{year}/{month:02d}/\"\n",
    "\n",
    "    df_yellow = spark.read.parquet(input_path)  # Read Parquet files\n",
    "\n",
    "    # Manually apply schema to each column\n",
    "    for field in yellow_schema.fields:\n",
    "        df_yellow = df_yellow.withColumn(field.name, df_yellow[field.name].cast(field.dataType))\n",
    "\n",
    "    df_yellow.repartition(4).write.parquet(output_path)  # Repartition and write\n"
   ]
  },
  {
   "cell_type": "code",
   "execution_count": null,
   "id": "870a3796-3433-4682-aeaa-1066cb31f29d",
   "metadata": {},
   "outputs": [],
   "source": [
    "spark"
   ]
  },
  {
   "cell_type": "code",
   "execution_count": null,
   "id": "a96bf874-f85b-441e-a9e1-405d5dbbee06",
   "metadata": {},
   "outputs": [],
   "source": []
  }
 ],
 "metadata": {
  "kernelspec": {
   "display_name": "Python 3 (ipykernel)",
   "language": "python",
   "name": "python3"
  },
  "language_info": {
   "codemirror_mode": {
    "name": "ipython",
    "version": 3
   },
   "file_extension": ".py",
   "mimetype": "text/x-python",
   "name": "python",
   "nbconvert_exporter": "python",
   "pygments_lexer": "ipython3",
   "version": "3.10.13"
  }
 },
 "nbformat": 4,
 "nbformat_minor": 5
}
