{
 "cells": [
  {
   "cell_type": "code",
   "execution_count": 1,
   "id": "f76019ea-acfc-4e36-9d83-f4734a93f996",
   "metadata": {},
   "outputs": [],
   "source": [
    "import pyspark"
   ]
  },
  {
   "cell_type": "code",
   "execution_count": 2,
   "id": "bd616941-f796-435c-86ca-45ebc372c4cc",
   "metadata": {},
   "outputs": [],
   "source": [
    "from pyspark.sql import SparkSession"
   ]
  },
  {
   "cell_type": "code",
   "execution_count": 3,
   "id": "1d7a9a25-8e09-48e4-aa52-8c3f5230579f",
   "metadata": {},
   "outputs": [
    {
     "name": "stdout",
     "output_type": "stream",
     "text": [
      "24/02/25 23:53:06 WARN Utils: Your hostname, codespaces-d654b6 resolves to a loopback address: 127.0.0.1; using 172.16.5.4 instead (on interface eth0)\n",
      "24/02/25 23:53:06 WARN Utils: Set SPARK_LOCAL_IP if you need to bind to another address\n"
     ]
    },
    {
     "name": "stderr",
     "output_type": "stream",
     "text": [
      "Setting default log level to \"WARN\".\n",
      "To adjust logging level use sc.setLogLevel(newLevel). For SparkR, use setLogLevel(newLevel).\n"
     ]
    },
    {
     "name": "stdout",
     "output_type": "stream",
     "text": [
      "24/02/25 23:53:07 WARN NativeCodeLoader: Unable to load native-hadoop library for your platform... using builtin-java classes where applicable\n",
      "24/02/25 23:53:08 WARN Utils: Service 'SparkUI' could not bind on port 4040. Attempting port 4041.\n"
     ]
    }
   ],
   "source": [
    "spark= SparkSession \\\n",
    " .builder \\\n",
    " .master(\"local[*]\") \\\n",
    " .appName(\"test\") \\\n",
    " .getOrCreate()"
   ]
  },
  {
   "cell_type": "code",
   "execution_count": 4,
   "id": "5b4087f0-04a9-4e3b-9bb1-6fd6349e689f",
   "metadata": {},
   "outputs": [
    {
     "data": {
      "text/html": [
       "\n",
       "            <div>\n",
       "                <p><b>SparkSession - in-memory</b></p>\n",
       "                \n",
       "        <div>\n",
       "            <p><b>SparkContext</b></p>\n",
       "\n",
       "            <p><a href=\"http://285ce450-d2a9-4f1d-a669-b9baf501eb0f.internal.cloudapp.net:4041\">Spark UI</a></p>\n",
       "\n",
       "            <dl>\n",
       "              <dt>Version</dt>\n",
       "                <dd><code>v3.3.2</code></dd>\n",
       "              <dt>Master</dt>\n",
       "                <dd><code>local[*]</code></dd>\n",
       "              <dt>AppName</dt>\n",
       "                <dd><code>test</code></dd>\n",
       "            </dl>\n",
       "        </div>\n",
       "        \n",
       "            </div>\n",
       "        "
      ],
      "text/plain": [
       "<pyspark.sql.session.SparkSession at 0x7f774e25c040>"
      ]
     },
     "execution_count": 4,
     "metadata": {},
     "output_type": "execute_result"
    }
   ],
   "source": [
    "spark"
   ]
  },
  {
   "cell_type": "code",
   "execution_count": 5,
   "id": "cd158ea5-a5e2-4142-851d-884d34bf3efa",
   "metadata": {},
   "outputs": [],
   "source": [
    "df_green=spark.read.parquet('../code/data/pq/green/*/*')"
   ]
  },
  {
   "cell_type": "code",
   "execution_count": 7,
   "id": "7a60b423-0305-41df-bf17-a018b407167d",
   "metadata": {},
   "outputs": [
    {
     "name": "stderr",
     "output_type": "stream",
     "text": [
      "/workspaces/de-zoomcamp-2024/6_batch/spark/spark-3.3.2-bin-hadoop3/python/pyspark/sql/dataframe.py:229: FutureWarning: Deprecated in 2.0, use createOrReplaceTempView instead.\n",
      "  warnings.warn(\"Deprecated in 2.0, use createOrReplaceTempView instead.\", FutureWarning)\n"
     ]
    }
   ],
   "source": [
    "df_green.registerTempTable('green')"
   ]
  },
  {
   "cell_type": "code",
   "execution_count": 9,
   "id": "0a8b2766-a25f-4a82-bb30-d6da6ef657d4",
   "metadata": {},
   "outputs": [
    {
     "data": {
      "text/plain": [
       "['VendorID',\n",
       " 'lpep_pickup_datetime',\n",
       " 'lpep_dropoff_datetime',\n",
       " 'store_and_fwd_flag',\n",
       " 'RatecodeID',\n",
       " 'PULocationID',\n",
       " 'DOLocationID',\n",
       " 'passenger_count',\n",
       " 'trip_distance',\n",
       " 'fare_amount',\n",
       " 'extra',\n",
       " 'mta_tax',\n",
       " 'tip_amount',\n",
       " 'tolls_amount',\n",
       " 'ehail_fee',\n",
       " 'improvement_surcharge',\n",
       " 'total_amount',\n",
       " 'payment_type',\n",
       " 'trip_type',\n",
       " 'congestion_surcharge']"
      ]
     },
     "execution_count": 9,
     "metadata": {},
     "output_type": "execute_result"
    }
   ],
   "source": [
    "df_green.columns"
   ]
  },
  {
   "cell_type": "code",
   "execution_count": 19,
   "id": "2ecf51e1-0baa-4119-a346-ca45c63a889e",
   "metadata": {},
   "outputs": [],
   "source": [
    "df_green_revenue = spark.sql(\"\"\"\n",
    "SELECT \n",
    "    date_trunc('hour', lpep_pickup_datetime) AS hour, \n",
    "    PULocationID AS zone,\n",
    "    \n",
    "    SUM(total_amount) AS amount,\n",
    "    COUNT(1) AS number_records\n",
    "FROM\n",
    "    green\n",
    "WHERE\n",
    "    lpep_pickup_datetime>=\"2020-01-01 00:00:00\"\n",
    "GROUP BY\n",
    "    1, 2\n",
    "\"\"\")"
   ]
  },
  {
   "cell_type": "code",
   "execution_count": 20,
   "id": "72a03cb5-2a00-4887-9d3f-15ef9e7737ef",
   "metadata": {},
   "outputs": [
    {
     "name": "stderr",
     "output_type": "stream",
     "text": [
      "[Stage 21:====================================>                     (5 + 3) / 8]\r"
     ]
    },
    {
     "name": "stdout",
     "output_type": "stream",
     "text": [
      "+-------------------+----+------------------+--------------+\n",
      "|               hour|zone|            amount|number_records|\n",
      "+-------------------+----+------------------+--------------+\n",
      "|2020-01-17 10:00:00|  41| 638.2700000000001|            49|\n",
      "|2020-01-02 09:00:00|  66|             229.4|            12|\n",
      "|2020-01-16 20:00:00|  65|501.28000000000014|            32|\n",
      "|2020-01-07 12:00:00|  66|             179.5|             9|\n",
      "|2020-01-12 20:00:00| 247|36.900000000000006|             3|\n",
      "|2020-01-12 15:00:00|  10|             75.92|             1|\n",
      "|2020-01-14 20:00:00| 223|             85.86|            11|\n",
      "|2020-01-22 10:00:00|  74| 1179.059999999999|            83|\n",
      "|2020-01-13 18:00:00|  92|207.01999999999998|            11|\n",
      "|2020-01-24 19:00:00| 130|308.59000000000003|            21|\n",
      "|2020-01-23 20:00:00|  16|37.269999999999996|             2|\n",
      "|2020-01-23 13:00:00| 181|281.76000000000005|            20|\n",
      "|2020-01-29 09:00:00| 116|            302.97|            19|\n",
      "|2020-01-06 21:00:00| 129|288.02000000000004|            14|\n",
      "|2020-01-17 01:00:00|  82|122.69999999999999|            12|\n",
      "|2020-01-12 14:00:00| 244|            402.03|            21|\n",
      "|2020-01-11 18:00:00|  41| 476.0100000000003|            45|\n",
      "|2020-01-16 15:00:00| 233|             48.82|             1|\n",
      "|2020-01-13 21:00:00| 255|            128.22|            10|\n",
      "|2020-01-03 12:00:00|  74| 770.0399999999997|            62|\n",
      "+-------------------+----+------------------+--------------+\n",
      "only showing top 20 rows\n",
      "\n"
     ]
    },
    {
     "name": "stderr",
     "output_type": "stream",
     "text": [
      "                                                                                \r"
     ]
    }
   ],
   "source": [
    "df_green_revenue.show()"
   ]
  },
  {
   "cell_type": "code",
   "execution_count": 32,
   "id": "fc25544d-d374-4970-82c6-c91c5f981d8b",
   "metadata": {},
   "outputs": [
    {
     "name": "stdout",
     "output_type": "stream",
     "text": [
      "24/02/26 00:20:25 WARN MemoryManager: Total allocation exceeds 95.00% (1,020,054,720 bytes) of heap memory\n",
      "Scaling row group sizes to 95.00% for 8 writers\n",
      "24/02/26 00:20:25 WARN MemoryManager: Total allocation exceeds 95.00% (1,020,054,720 bytes) of heap memory\n",
      "Scaling row group sizes to 95.00% for 8 writers\n"
     ]
    }
   ],
   "source": [
    "df_green_revenue \\\n",
    " .repartition(20) \\\n",
    " .write.parquet('../code/data/report/revenue/green',mode='overwrite')"
   ]
  },
  {
   "cell_type": "code",
   "execution_count": 23,
   "id": "2984f598-2478-4b33-a5ca-58ed484ea327",
   "metadata": {},
   "outputs": [],
   "source": [
    "df_yellow=spark.read.parquet('../code/data/pq/yellow/*/*')"
   ]
  },
  {
   "cell_type": "code",
   "execution_count": 24,
   "id": "812ae70f-616c-45ae-8250-de7c8e2958d7",
   "metadata": {},
   "outputs": [
    {
     "name": "stderr",
     "output_type": "stream",
     "text": [
      "/workspaces/de-zoomcamp-2024/6_batch/spark/spark-3.3.2-bin-hadoop3/python/pyspark/sql/dataframe.py:229: FutureWarning: Deprecated in 2.0, use createOrReplaceTempView instead.\n",
      "  warnings.warn(\"Deprecated in 2.0, use createOrReplaceTempView instead.\", FutureWarning)\n"
     ]
    }
   ],
   "source": [
    "df_yellow.registerTempTable('yellow')"
   ]
  },
  {
   "cell_type": "code",
   "execution_count": 25,
   "id": "916661d6-e12a-4118-b94f-d408ab6c7c0e",
   "metadata": {},
   "outputs": [
    {
     "data": {
      "text/plain": [
       "['VendorID',\n",
       " 'tpep_pickup_datetime',\n",
       " 'tpep_dropoff_datetime',\n",
       " 'passenger_count',\n",
       " 'trip_distance',\n",
       " 'RatecodeID',\n",
       " 'store_and_fwd_flag',\n",
       " 'PULocationID',\n",
       " 'DOLocationID',\n",
       " 'payment_type',\n",
       " 'fare_amount',\n",
       " 'extra',\n",
       " 'mta_tax',\n",
       " 'tip_amount',\n",
       " 'tolls_amount',\n",
       " 'improvement_surcharge',\n",
       " 'total_amount',\n",
       " 'congestion_surcharge',\n",
       " 'airport_fee']"
      ]
     },
     "execution_count": 25,
     "metadata": {},
     "output_type": "execute_result"
    }
   ],
   "source": [
    "df_yellow.columns"
   ]
  },
  {
   "cell_type": "code",
   "execution_count": 27,
   "id": "7689b379-28f3-4cf7-81dd-aac2500fe921",
   "metadata": {},
   "outputs": [],
   "source": [
    "df_yellow_revenue = spark.sql(\"\"\"\n",
    "SELECT \n",
    "    date_trunc('hour', tpep_pickup_datetime) AS hour, \n",
    "    PULocationID AS zone,\n",
    "    \n",
    "    SUM(total_amount) AS amount,\n",
    "    COUNT(1) AS number_records\n",
    "FROM\n",
    "    yellow\n",
    "WHERE\n",
    "    tpep_pickup_datetime>=\"2020-01-01 00:00:00\"\n",
    "GROUP BY\n",
    "    1, 2\n",
    "\"\"\")"
   ]
  },
  {
   "cell_type": "code",
   "execution_count": 28,
   "id": "832c03d2-4302-43a9-baaf-80998b3764d3",
   "metadata": {},
   "outputs": [
    {
     "name": "stderr",
     "output_type": "stream",
     "text": [
      "[Stage 28:=============================================>          (13 + 3) / 16]\r"
     ]
    },
    {
     "name": "stdout",
     "output_type": "stream",
     "text": [
      "+-------------------+----+------------------+--------------+\n",
      "|               hour|zone|            amount|number_records|\n",
      "+-------------------+----+------------------+--------------+\n",
      "|2020-01-21 16:00:00| 151|1384.1999999999996|           102|\n",
      "|2020-01-07 01:00:00| 234| 521.4000000000001|            33|\n",
      "|2020-01-25 02:00:00| 170|1895.4199999999987|           109|\n",
      "|2020-01-15 14:00:00|  13|2707.2699999999986|           103|\n",
      "|2020-01-02 09:00:00| 161| 4299.929999999996|           242|\n",
      "|2020-01-04 02:00:00|  79| 6893.030000000011|           426|\n",
      "|2020-01-15 20:00:00| 239| 4298.739999999997|           298|\n",
      "|2020-01-25 21:00:00| 230| 5935.560000000009|           388|\n",
      "|2020-01-26 13:00:00| 236| 8182.920000000018|           569|\n",
      "|2020-01-20 15:00:00| 113| 2593.589999999998|           165|\n",
      "|2020-01-17 19:00:00| 170|  9634.39000000002|           555|\n",
      "|2020-01-04 03:00:00| 158|1542.7899999999997|            92|\n",
      "|2020-01-26 13:00:00| 239|6876.2300000000105|           475|\n",
      "|2020-01-26 00:00:00| 263| 2999.359999999998|           191|\n",
      "|2020-01-03 12:00:00| 163| 5357.380000000001|           294|\n",
      "|2020-01-15 08:00:00|  68|4006.5899999999974|           245|\n",
      "|2020-01-07 18:00:00| 229| 5170.340000000001|           336|\n",
      "|2020-01-26 10:00:00|  87|           1339.24|            59|\n",
      "|2020-01-03 16:00:00| 132|27982.999999999978|           480|\n",
      "|2020-01-01 18:00:00|  68| 3645.649999999997|           213|\n",
      "+-------------------+----+------------------+--------------+\n",
      "only showing top 20 rows\n",
      "\n"
     ]
    },
    {
     "name": "stderr",
     "output_type": "stream",
     "text": [
      "                                                                                \r"
     ]
    }
   ],
   "source": [
    "df_yellow_revenue.show()"
   ]
  },
  {
   "cell_type": "code",
   "execution_count": 30,
   "id": "cbe1e394-de77-4851-9f8f-d6f7345df64e",
   "metadata": {},
   "outputs": [
    {
     "name": "stderr",
     "output_type": "stream",
     "text": [
      "[Stage 36:=======>                                                  (1 + 7) / 8]\r"
     ]
    },
    {
     "name": "stdout",
     "output_type": "stream",
     "text": [
      "24/02/26 00:19:31 WARN MemoryManager: Total allocation exceeds 95.00% (1,020,054,720 bytes) of heap memory\n",
      "Scaling row group sizes to 95.00% for 8 writers\n",
      "24/02/26 00:19:31 WARN MemoryManager: Total allocation exceeds 95.00% (1,020,054,720 bytes) of heap memory\n",
      "Scaling row group sizes to 95.00% for 8 writers\n"
     ]
    },
    {
     "name": "stderr",
     "output_type": "stream",
     "text": [
      "                                                                                \r"
     ]
    }
   ],
   "source": [
    "df_yellow_revenue \\\n",
    " .repartition(20) \\\n",
    " .write.parquet('../code/data/report/revenue/yellow',mode='overwrite')"
   ]
  },
  {
   "cell_type": "code",
   "execution_count": 39,
   "id": "8100ce32-3890-4a87-8c72-aab401381bc0",
   "metadata": {},
   "outputs": [],
   "source": [
    "df_green_revenue=spark.read.parquet('../code/data/report/revenue/green')\n",
    "df_yellow_revenue=spark.read.parquet('../code/data/report/revenue/yellow')"
   ]
  },
  {
   "cell_type": "code",
   "execution_count": 40,
   "id": "514d5f58-221d-4ae1-b9c0-469f1666f154",
   "metadata": {},
   "outputs": [],
   "source": [
    "df_green_revenue_tmp= df_green_revenue \\\n",
    " .withColumnRenamed('amount','green_amount') \\\n",
    " .withColumnRenamed('number_records','green_number_records')\n",
    "\n",
    "df_yellow_revenue_tmp= df_yellow_revenue \\\n",
    " .withColumnRenamed('amount','yellow_amount') \\\n",
    " .withColumnRenamed('number_records','yellow_number_records')"
   ]
  },
  {
   "cell_type": "code",
   "execution_count": 41,
   "id": "5e2dc026-ffef-4502-a777-8c85b3a7c1c3",
   "metadata": {},
   "outputs": [],
   "source": [
    "df_join=df_green_revenue_tmp.join(df_yellow_revenue_tmp, on=['hour','zone'],how='outer')"
   ]
  },
  {
   "cell_type": "code",
   "execution_count": 37,
   "id": "e023d847-ad24-4c7e-a5f6-15d28aea7a9d",
   "metadata": {},
   "outputs": [
    {
     "name": "stderr",
     "output_type": "stream",
     "text": [
      "[Stage 52:=================================================>      (14 + 2) / 16]\r"
     ]
    },
    {
     "name": "stdout",
     "output_type": "stream",
     "text": [
      "+-------------------+----+------------------+--------------------+------------------+---------------------+\n",
      "|               hour|zone|      green_amount|green_number_records|     yellow_amount|yellow_number_records|\n",
      "+-------------------+----+------------------+--------------------+------------------+---------------------+\n",
      "|2020-01-01 00:00:00|   3|              null|                null|              25.0|                    1|\n",
      "|2020-01-01 00:00:00|   4|              null|                null|1004.3000000000002|                   57|\n",
      "|2020-01-01 00:00:00|  40|            168.98|                   8|             89.97|                    5|\n",
      "|2020-01-01 00:00:00|  45|              null|                null| 732.4800000000002|                   42|\n",
      "|2020-01-01 00:00:00|  47|              13.3|                   1|               8.3|                    1|\n",
      "|2020-01-01 00:00:00|  51|              17.8|                   2|              31.0|                    1|\n",
      "|2020-01-01 00:00:00|  62|             15.95|                   1|             61.43|                    1|\n",
      "|2020-01-01 00:00:00|  68|              null|                null| 7825.070000000014|                  396|\n",
      "|2020-01-01 00:00:00|  73|              null|                null|              17.3|                    1|\n",
      "|2020-01-01 00:00:00|  74|317.09000000000015|                  24| 586.2100000000002|                   47|\n",
      "|2020-01-01 00:00:00|  77| 75.99000000000001|                   2|            134.24|                    3|\n",
      "|2020-01-01 00:00:00|  80|364.32000000000005|                  13|             371.4|                   20|\n",
      "|2020-01-01 00:00:00|  83| 94.09999999999998|                   7|               9.8|                    1|\n",
      "|2020-01-01 00:00:00|  95|202.20000000000005|                  15|               6.3|                    1|\n",
      "|2020-01-01 00:00:00| 133|              null|                null|              27.3|                    1|\n",
      "|2020-01-01 00:00:00| 134|             69.05|                   6|              null|                 null|\n",
      "|2020-01-01 00:00:00| 135|              null|                null|              18.3|                    1|\n",
      "|2020-01-01 00:00:00| 141|              null|                null| 4306.829999999996|                  283|\n",
      "|2020-01-01 00:00:00| 144|              null|                null|2842.7299999999987|                  158|\n",
      "|2020-01-01 00:00:00| 164|              null|                null| 5448.930000000002|                  292|\n",
      "+-------------------+----+------------------+--------------------+------------------+---------------------+\n",
      "only showing top 20 rows\n",
      "\n"
     ]
    },
    {
     "name": "stderr",
     "output_type": "stream",
     "text": [
      "                                                                                \r"
     ]
    }
   ],
   "source": [
    "df_join.show()"
   ]
  },
  {
   "cell_type": "code",
   "execution_count": 42,
   "id": "e8be2585-34cc-4d4d-b051-e66f9ef30a1b",
   "metadata": {},
   "outputs": [
    {
     "name": "stdout",
     "output_type": "stream",
     "text": [
      "24/02/26 01:00:15 WARN MemoryManager: Total allocation exceeds 95.00% (1,020,054,720 bytes) of heap memory\n",
      "Scaling row group sizes to 95.00% for 8 writers\n"
     ]
    },
    {
     "name": "stderr",
     "output_type": "stream",
     "text": [
      "                                                                                \r"
     ]
    }
   ],
   "source": [
    "df_join.write.parquet('../code/data/report/total',mode='overwrite')"
   ]
  },
  {
   "cell_type": "code",
   "execution_count": 43,
   "id": "f2743b09-7949-49cb-a9a3-5c6059cb4cef",
   "metadata": {},
   "outputs": [],
   "source": [
    "df_join=spark.read.parquet('../code/data/report/total')"
   ]
  },
  {
   "cell_type": "code",
   "execution_count": 44,
   "id": "a17e54b6-ae7b-4c66-ba25-3d0a3ca406e8",
   "metadata": {},
   "outputs": [
    {
     "name": "stdout",
     "output_type": "stream",
     "text": [
      "+-------------------+----+------------------+--------------------+------------------+---------------------+\n",
      "|               hour|zone|      green_amount|green_number_records|     yellow_amount|yellow_number_records|\n",
      "+-------------------+----+------------------+--------------------+------------------+---------------------+\n",
      "|2020-01-01 00:00:00|  17|195.03000000000003|                   9|220.20999999999998|                    8|\n",
      "|2020-01-01 00:00:00|  32| 68.94999999999999|                   2|              18.0|                    1|\n",
      "|2020-01-01 00:00:00|  43|107.52000000000001|                   6| 6539.510000000011|                  390|\n",
      "|2020-01-01 00:00:00|  49|266.76000000000005|                  14|            185.65|                   10|\n",
      "|2020-01-01 00:00:00|  69|              11.8|                   1|            106.52|                    4|\n",
      "|2020-01-01 00:00:00|  72|             67.53|                   2|              null|                 null|\n",
      "|2020-01-01 00:00:00| 107|              null|                null|6441.0300000000025|                  380|\n",
      "|2020-01-01 00:00:00| 113|              null|                null|3984.3199999999997|                  220|\n",
      "|2020-01-01 00:00:00| 137|              null|                null|2791.4299999999985|                  172|\n",
      "|2020-01-01 00:00:00| 140|              null|                null| 2268.909999999999|                  138|\n",
      "|2020-01-01 00:00:00| 148|              null|                null| 6790.150000000011|                  371|\n",
      "|2020-01-01 00:00:00| 153|              25.0|                   1|               7.8|                    1|\n",
      "|2020-01-01 00:00:00| 159|              13.8|                   1|              58.8|                    2|\n",
      "|2020-01-01 00:00:00| 163|              null|                null|2652.9799999999987|                  152|\n",
      "|2020-01-01 00:00:00| 170|              null|                null| 8266.010000000017|                  463|\n",
      "|2020-01-01 00:00:00| 185|              null|                null|             69.51|                    2|\n",
      "|2020-01-01 00:00:00| 201|             77.32|                   2|              null|                 null|\n",
      "|2020-01-01 00:00:00| 208|             80.24|                   3|              null|                 null|\n",
      "|2020-01-01 00:00:00| 215|            546.36|                  18|             36.11|                    1|\n",
      "|2020-01-01 00:00:00| 218|             72.27|                   2|              null|                 null|\n",
      "+-------------------+----+------------------+--------------------+------------------+---------------------+\n",
      "only showing top 20 rows\n",
      "\n"
     ]
    }
   ],
   "source": [
    "df_join.show()"
   ]
  },
  {
   "cell_type": "code",
   "execution_count": 46,
   "id": "c1a627db-bda8-4408-9c18-f3e3748f3f9b",
   "metadata": {},
   "outputs": [],
   "source": [
    "df_zones=spark.read.parquet('zones/')"
   ]
  },
  {
   "cell_type": "code",
   "execution_count": 47,
   "id": "06fcc652-6ae4-4150-a41c-ccbff917e660",
   "metadata": {},
   "outputs": [
    {
     "name": "stdout",
     "output_type": "stream",
     "text": [
      "+----------+-------------+--------------------+------------+\n",
      "|LocationID|      Borough|                Zone|service_zone|\n",
      "+----------+-------------+--------------------+------------+\n",
      "|         1|          EWR|      Newark Airport|         EWR|\n",
      "|         2|       Queens|         Jamaica Bay|   Boro Zone|\n",
      "|         3|        Bronx|Allerton/Pelham G...|   Boro Zone|\n",
      "|         4|    Manhattan|       Alphabet City| Yellow Zone|\n",
      "|         5|Staten Island|       Arden Heights|   Boro Zone|\n",
      "|         6|Staten Island|Arrochar/Fort Wad...|   Boro Zone|\n",
      "|         7|       Queens|             Astoria|   Boro Zone|\n",
      "|         8|       Queens|        Astoria Park|   Boro Zone|\n",
      "|         9|       Queens|          Auburndale|   Boro Zone|\n",
      "|        10|       Queens|        Baisley Park|   Boro Zone|\n",
      "|        11|     Brooklyn|          Bath Beach|   Boro Zone|\n",
      "|        12|    Manhattan|        Battery Park| Yellow Zone|\n",
      "|        13|    Manhattan|   Battery Park City| Yellow Zone|\n",
      "|        14|     Brooklyn|           Bay Ridge|   Boro Zone|\n",
      "|        15|       Queens|Bay Terrace/Fort ...|   Boro Zone|\n",
      "|        16|       Queens|             Bayside|   Boro Zone|\n",
      "|        17|     Brooklyn|             Bedford|   Boro Zone|\n",
      "|        18|        Bronx|        Bedford Park|   Boro Zone|\n",
      "|        19|       Queens|           Bellerose|   Boro Zone|\n",
      "|        20|        Bronx|             Belmont|   Boro Zone|\n",
      "+----------+-------------+--------------------+------------+\n",
      "only showing top 20 rows\n",
      "\n"
     ]
    }
   ],
   "source": [
    "df_zones.show()"
   ]
  },
  {
   "cell_type": "code",
   "execution_count": 49,
   "id": "ba1e1164-c2be-4413-9f48-2cad3c20789f",
   "metadata": {},
   "outputs": [],
   "source": [
    "df_result=df_join.join(df_zones,df_join.zone==df_zones.LocationID)"
   ]
  },
  {
   "cell_type": "code",
   "execution_count": 52,
   "id": "721cb3a5-7e8a-41b1-985f-7f4b64bc8510",
   "metadata": {},
   "outputs": [
    {
     "name": "stdout",
     "output_type": "stream",
     "text": [
      "24/02/26 01:11:59 WARN MemoryManager: Total allocation exceeds 95.00% (1,020,054,720 bytes) of heap memory\n",
      "Scaling row group sizes to 95.00% for 8 writers\n"
     ]
    },
    {
     "name": "stderr",
     "output_type": "stream",
     "text": [
      "                                                                                \r"
     ]
    }
   ],
   "source": [
    "df_result.drop('LocationID','zone').write.parquet('tmp/revenue-zones')"
   ]
  },
  {
   "cell_type": "code",
   "execution_count": null,
   "id": "8fd0c8c1-b02b-4dcf-ac27-136081d81b7f",
   "metadata": {},
   "outputs": [],
   "source": []
  }
 ],
 "metadata": {
  "kernelspec": {
   "display_name": "Python 3 (ipykernel)",
   "language": "python",
   "name": "python3"
  },
  "language_info": {
   "codemirror_mode": {
    "name": "ipython",
    "version": 3
   },
   "file_extension": ".py",
   "mimetype": "text/x-python",
   "name": "python",
   "nbconvert_exporter": "python",
   "pygments_lexer": "ipython3",
   "version": "3.10.13"
  }
 },
 "nbformat": 4,
 "nbformat_minor": 5
}
