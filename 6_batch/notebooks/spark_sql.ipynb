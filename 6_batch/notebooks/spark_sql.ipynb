{
 "cells": [
  {
   "cell_type": "code",
   "execution_count": 22,
   "id": "12e0014d-44ba-4724-9939-c314ff758e2c",
   "metadata": {},
   "outputs": [],
   "source": [
    "import pyspark"
   ]
  },
  {
   "cell_type": "code",
   "execution_count": 23,
   "id": "e0139e8f-22ac-4abf-baf0-9e405c1b7bdb",
   "metadata": {},
   "outputs": [],
   "source": [
    "from pyspark.sql import SparkSession"
   ]
  },
  {
   "cell_type": "code",
   "execution_count": 24,
   "id": "98d2b7db-0867-4160-8d8a-1306b279b15d",
   "metadata": {},
   "outputs": [],
   "source": [
    "spark = SparkSession.builder \\\n",
    "    .master(\"local[*]\") \\\n",
    "    .appName('test') \\\n",
    "    .getOrCreate()"
   ]
  },
  {
   "cell_type": "code",
   "execution_count": 25,
   "id": "125b7923-1baf-4412-a6b4-97ea95954ab3",
   "metadata": {},
   "outputs": [
    {
     "data": {
      "text/html": [
       "\n",
       "            <div>\n",
       "                <p><b>SparkSession - in-memory</b></p>\n",
       "                \n",
       "        <div>\n",
       "            <p><b>SparkContext</b></p>\n",
       "\n",
       "            <p><a href=\"http://2b2a0b49-b73e-4e2e-b889-ebc8a06b2479.internal.cloudapp.net:4040\">Spark UI</a></p>\n",
       "\n",
       "            <dl>\n",
       "              <dt>Version</dt>\n",
       "                <dd><code>v3.3.2</code></dd>\n",
       "              <dt>Master</dt>\n",
       "                <dd><code>local[*]</code></dd>\n",
       "              <dt>AppName</dt>\n",
       "                <dd><code>test</code></dd>\n",
       "            </dl>\n",
       "        </div>\n",
       "        \n",
       "            </div>\n",
       "        "
      ],
      "text/plain": [
       "<pyspark.sql.session.SparkSession at 0x7f0a847371f0>"
      ]
     },
     "execution_count": 25,
     "metadata": {},
     "output_type": "execute_result"
    }
   ],
   "source": [
    "spark"
   ]
  },
  {
   "cell_type": "code",
   "execution_count": 31,
   "id": "b1712603-0f5c-4f87-989b-a56f5d90de34",
   "metadata": {},
   "outputs": [],
   "source": [
    "df_green=spark.read.parquet('../code/data/pq/green/*/*')"
   ]
  },
  {
   "cell_type": "code",
   "execution_count": 34,
   "id": "114353ec-357c-43dc-a64a-c072a8d74cea",
   "metadata": {},
   "outputs": [
    {
     "name": "stdout",
     "output_type": "stream",
     "text": [
      "root\n",
      " |-- VendorID: integer (nullable = true)\n",
      " |-- lpep_pickup_datetime: timestamp (nullable = true)\n",
      " |-- lpep_dropoff_datetime: timestamp (nullable = true)\n",
      " |-- store_and_fwd_flag: string (nullable = true)\n",
      " |-- RatecodeID: integer (nullable = true)\n",
      " |-- PULocationID: integer (nullable = true)\n",
      " |-- DOLocationID: integer (nullable = true)\n",
      " |-- passenger_count: integer (nullable = true)\n",
      " |-- trip_distance: double (nullable = true)\n",
      " |-- fare_amount: double (nullable = true)\n",
      " |-- extra: double (nullable = true)\n",
      " |-- mta_tax: double (nullable = true)\n",
      " |-- tip_amount: double (nullable = true)\n",
      " |-- tolls_amount: double (nullable = true)\n",
      " |-- ehail_fee: double (nullable = true)\n",
      " |-- improvement_surcharge: double (nullable = true)\n",
      " |-- total_amount: double (nullable = true)\n",
      " |-- payment_type: integer (nullable = true)\n",
      " |-- trip_type: integer (nullable = true)\n",
      " |-- congestion_surcharge: double (nullable = true)\n",
      "\n"
     ]
    }
   ],
   "source": [
    "df_green.printSchema()"
   ]
  },
  {
   "cell_type": "code",
   "execution_count": 35,
   "id": "3e1601b6-9a7d-4c6f-b48b-a50676b3a1be",
   "metadata": {},
   "outputs": [],
   "source": [
    "df_yellow=spark.read.parquet('../code/data/pq/yellow/*/*')"
   ]
  },
  {
   "cell_type": "code",
   "execution_count": 36,
   "id": "02688eca-95a8-4829-9c11-4a01880d00c3",
   "metadata": {},
   "outputs": [
    {
     "name": "stdout",
     "output_type": "stream",
     "text": [
      "root\n",
      " |-- VendorID: integer (nullable = true)\n",
      " |-- tpep_pickup_datetime: timestamp (nullable = true)\n",
      " |-- tpep_dropoff_datetime: timestamp (nullable = true)\n",
      " |-- passenger_count: integer (nullable = true)\n",
      " |-- trip_distance: double (nullable = true)\n",
      " |-- RatecodeID: integer (nullable = true)\n",
      " |-- store_and_fwd_flag: string (nullable = true)\n",
      " |-- PULocationID: integer (nullable = true)\n",
      " |-- DOLocationID: integer (nullable = true)\n",
      " |-- payment_type: integer (nullable = true)\n",
      " |-- fare_amount: double (nullable = true)\n",
      " |-- extra: double (nullable = true)\n",
      " |-- mta_tax: double (nullable = true)\n",
      " |-- tip_amount: double (nullable = true)\n",
      " |-- tolls_amount: double (nullable = true)\n",
      " |-- improvement_surcharge: double (nullable = true)\n",
      " |-- total_amount: double (nullable = true)\n",
      " |-- congestion_surcharge: double (nullable = true)\n",
      " |-- airport_fee: integer (nullable = true)\n",
      "\n"
     ]
    }
   ],
   "source": [
    "df_yellow.printSchema()"
   ]
  },
  {
   "cell_type": "code",
   "execution_count": 42,
   "id": "340829e6-eec0-4868-9893-27b0817bb4ee",
   "metadata": {},
   "outputs": [
    {
     "data": {
      "text/plain": [
       "{'DOLocationID',\n",
       " 'PULocationID',\n",
       " 'RatecodeID',\n",
       " 'VendorID',\n",
       " 'congestion_surcharge',\n",
       " 'dropoff_datetime',\n",
       " 'extra',\n",
       " 'fare_amount',\n",
       " 'improvement_surcharge',\n",
       " 'mta_tax',\n",
       " 'passenger_count',\n",
       " 'payment_type',\n",
       " 'pickup_datetime',\n",
       " 'store_and_fwd_flag',\n",
       " 'tip_amount',\n",
       " 'tolls_amount',\n",
       " 'total_amount',\n",
       " 'trip_distance'}"
      ]
     },
     "execution_count": 42,
     "metadata": {},
     "output_type": "execute_result"
    }
   ],
   "source": [
    "set(df_green.columns) & set(df_yellow.columns)"
   ]
  },
  {
   "cell_type": "code",
   "execution_count": 40,
   "id": "f0e26e8a-5659-46aa-97f3-3e356734d308",
   "metadata": {},
   "outputs": [],
   "source": [
    "df_green = df_green \\\n",
    "    .withColumnRenamed('lpep_pickup_datetime', 'pickup_datetime') \\\n",
    "    .withColumnRenamed('lpep_dropoff_datetime', 'dropoff_datetime')"
   ]
  },
  {
   "cell_type": "code",
   "execution_count": 41,
   "id": "dce9f851-7591-445a-afdc-427082c8a1e0",
   "metadata": {},
   "outputs": [],
   "source": [
    "df_yellow = df_yellow \\\n",
    "    .withColumnRenamed('tpep_pickup_datetime', 'pickup_datetime') \\\n",
    "    .withColumnRenamed('tpep_dropoff_datetime', 'dropoff_datetime')"
   ]
  },
  {
   "cell_type": "code",
   "execution_count": 47,
   "id": "67f9cebb-1d1e-43ff-9503-6a3c5bd75304",
   "metadata": {},
   "outputs": [],
   "source": [
    "common_columns=[]\n",
    "\n",
    "yellow_columns=set(df_yellow.columns)\n",
    "\n",
    "for col in df_green.columns:\n",
    "    if col in df_yellow.columns:\n",
    "        common_columns.append(col)"
   ]
  },
  {
   "cell_type": "code",
   "execution_count": 48,
   "id": "a6b1403a-3214-4d3f-aae1-ea31c02bb0b4",
   "metadata": {},
   "outputs": [
    {
     "data": {
      "text/plain": [
       "['VendorID',\n",
       " 'pickup_datetime',\n",
       " 'dropoff_datetime',\n",
       " 'store_and_fwd_flag',\n",
       " 'RatecodeID',\n",
       " 'PULocationID',\n",
       " 'DOLocationID',\n",
       " 'passenger_count',\n",
       " 'trip_distance',\n",
       " 'fare_amount',\n",
       " 'extra',\n",
       " 'mta_tax',\n",
       " 'tip_amount',\n",
       " 'tolls_amount',\n",
       " 'improvement_surcharge',\n",
       " 'total_amount',\n",
       " 'payment_type',\n",
       " 'congestion_surcharge']"
      ]
     },
     "execution_count": 48,
     "metadata": {},
     "output_type": "execute_result"
    }
   ],
   "source": [
    "common_columns"
   ]
  },
  {
   "cell_type": "code",
   "execution_count": 55,
   "id": "37602ba5-f678-4d14-b65e-47f9ebdda530",
   "metadata": {},
   "outputs": [
    {
     "name": "stdout",
     "output_type": "stream",
     "text": [
      "+--------+-------------------+-------------------+------------------+----------+------------+------------+---------------+-------------+-----------+-----+-------+----------+------------+---------------------+------------+------------+--------------------+\n",
      "|VendorID|    pickup_datetime|   dropoff_datetime|store_and_fwd_flag|RatecodeID|PULocationID|DOLocationID|passenger_count|trip_distance|fare_amount|extra|mta_tax|tip_amount|tolls_amount|improvement_surcharge|total_amount|payment_type|congestion_surcharge|\n",
      "+--------+-------------------+-------------------+------------------+----------+------------+------------+---------------+-------------+-----------+-----+-------+----------+------------+---------------------+------------+------------+--------------------+\n",
      "|       2|2020-01-23 13:10:15|2020-01-23 13:38:16|                 N|         1|          74|         130|              1|        12.77|       36.0|  0.0|    0.5|      2.05|        6.12|                  0.3|       44.97|           1|                 0.0|\n",
      "|       2|2020-01-11 12:14:00|2020-01-11 12:21:00|              null|      null|          95|         134|           null|         2.44|       8.17|  0.0|    0.0|       0.0|         0.0|                  0.3|        8.47|        null|                null|\n",
      "|       2|2020-01-30 12:41:00|2020-01-30 13:30:00|              null|      null|         117|         188|           null|        13.11|      38.57| 2.75|    0.0|       0.0|        2.29|                  0.3|       43.91|        null|                null|\n",
      "|       2|2020-01-05 16:32:26|2020-01-05 16:40:51|                 N|         1|          82|          83|              1|         1.25|        7.5|  0.0|    0.5|       0.0|         0.0|                  0.3|         8.3|           2|                 0.0|\n",
      "|       2|2020-01-29 19:22:42|2020-01-29 19:31:02|                 N|         1|         166|          42|              1|         1.84|        8.0|  1.0|    0.5|      2.94|         0.0|                  0.3|       12.74|           1|                 0.0|\n",
      "|       2|2020-01-15 11:07:42|2020-01-15 11:11:31|                 N|         1|         179|         223|              2|         0.76|        5.0|  0.0|    0.5|       0.0|         0.0|                  0.3|         5.8|           2|                 0.0|\n",
      "|       2|2020-01-16 08:22:29|2020-01-16 08:50:24|                 N|         1|          41|         237|              1|         3.32|       18.5|  0.0|    0.5|       3.0|         0.0|                  0.3|       25.05|           1|                2.75|\n",
      "|       2|2020-01-28 17:05:28|2020-01-28 17:26:11|                 N|         1|          75|         161|              1|         2.21|       14.0|  1.0|    0.5|      2.78|         0.0|                  0.3|       21.33|           1|                2.75|\n",
      "|       2|2020-01-15 09:45:29|2020-01-15 09:58:20|                 N|         1|          75|         238|              2|         1.68|       10.5|  0.0|    0.5|       0.0|         0.0|                  0.3|        11.3|           2|                 0.0|\n",
      "|       2|2020-01-04 10:28:49|2020-01-04 10:32:45|                 N|         1|          42|          41|              1|         0.77|        5.0|  0.0|    0.5|      1.16|         0.0|                  0.3|        6.96|           1|                 0.0|\n",
      "|       1|2020-01-12 07:58:08|2020-01-12 08:07:59|                 N|         1|          91|          71|              1|          0.0|       13.2|  0.0|    0.5|       0.0|         0.0|                  0.3|        14.0|           1|                 0.0|\n",
      "|       1|2020-01-30 21:46:31|2020-01-30 21:56:07|                 N|         1|         255|          80|              1|          1.3|        8.0|  0.5|    0.5|       1.0|         0.0|                  0.3|        10.3|           1|                 0.0|\n",
      "|       1|2020-01-09 23:58:57|2020-01-10 00:09:27|                 N|         1|          65|          97|              1|          1.5|        8.5|  0.5|    0.5|      2.45|         0.0|                  0.3|       12.25|           1|                 0.0|\n",
      "|       2|2020-01-12 10:38:00|2020-01-12 10:56:00|              null|      null|          51|          60|           null|         7.83|      27.65| 2.75|    0.0|       0.0|         0.0|                  0.3|        30.7|        null|                null|\n",
      "|       2|2020-01-17 21:47:52|2020-01-17 22:00:07|                 N|         1|          74|         126|              1|         3.04|       12.0|  0.5|    0.5|       0.0|         0.0|                  0.3|        13.3|           2|                 0.0|\n",
      "|       2|2020-01-07 06:52:00|2020-01-07 07:28:00|              null|      null|          35|          33|           null|         4.96|       24.3|  0.0|    0.0|       0.0|         0.0|                  0.3|        24.6|        null|                null|\n",
      "|       2|2020-01-24 12:08:00|2020-01-24 12:37:00|              null|      null|          97|         168|           null|        11.89|       48.8|  5.5|    0.0|       0.0|         0.0|                  0.3|        54.6|        null|                null|\n",
      "|       2|2020-01-27 02:59:20|2020-01-27 03:05:18|                 N|         1|           7|         179|              1|         1.57|        6.5|  0.5|    0.5|       0.0|         0.0|                  0.3|         7.8|           2|                 0.0|\n",
      "|       2|2020-01-16 14:39:13|2020-01-16 15:19:56|                 N|         1|          74|         243|              1|          6.8|       29.5|  0.0|    0.5|       0.0|         0.0|                  0.3|        30.3|           1|                 0.0|\n",
      "|       2|2020-01-16 18:42:24|2020-01-16 18:47:59|                 N|         1|          66|          97|              2|         1.06|        6.0|  1.0|    0.5|      1.56|         0.0|                  0.3|        9.36|           1|                 0.0|\n",
      "+--------+-------------------+-------------------+------------------+----------+------------+------------+---------------+-------------+-----------+-----+-------+----------+------------+---------------------+------------+------------+--------------------+\n",
      "only showing top 20 rows\n",
      "\n"
     ]
    }
   ],
   "source": [
    "df_green.select(common_columns).show()\n"
   ]
  },
  {
   "cell_type": "code",
   "execution_count": 53,
   "id": "2fdf33c3-7be7-44e4-becb-515eaf59c24a",
   "metadata": {},
   "outputs": [],
   "source": [
    "from pyspark.sql import functions as F"
   ]
  },
  {
   "cell_type": "code",
   "execution_count": 56,
   "id": "51e370e2-3b02-4e8e-ab78-6528926f1b8f",
   "metadata": {},
   "outputs": [],
   "source": [
    "df_green_st=df_green.select(common_columns).withColumn('service_type',F.lit('green'))"
   ]
  },
  {
   "cell_type": "code",
   "execution_count": 57,
   "id": "c2662bbd-b987-4ee3-a103-da13a7b7f1da",
   "metadata": {},
   "outputs": [],
   "source": [
    "df_yellow_st=df_yellow.select(common_columns).withColumn('service_type',F.lit('yellow'))"
   ]
  },
  {
   "cell_type": "code",
   "execution_count": 59,
   "id": "6a43cc31-b575-45cd-a33c-f81c864479bb",
   "metadata": {},
   "outputs": [],
   "source": [
    "df_trips_data=df_green_st.unionAll(df_yellow_st)"
   ]
  },
  {
   "cell_type": "code",
   "execution_count": 61,
   "id": "59672fe9-4c60-4dfe-9bc9-36939ef51379",
   "metadata": {},
   "outputs": [
    {
     "name": "stderr",
     "output_type": "stream",
     "text": [
      "[Stage 28:=======================================>                (17 + 7) / 24]\r"
     ]
    },
    {
     "name": "stdout",
     "output_type": "stream",
     "text": [
      "+------------+--------+\n",
      "|service_type|   count|\n",
      "+------------+--------+\n",
      "|       green| 2802931|\n",
      "|      yellow|55553400|\n",
      "+------------+--------+\n",
      "\n"
     ]
    },
    {
     "name": "stderr",
     "output_type": "stream",
     "text": [
      "                                                                                \r"
     ]
    }
   ],
   "source": [
    "df_trips_data.groupby('service_type').count().show()"
   ]
  },
  {
   "cell_type": "code",
   "execution_count": 62,
   "id": "ccb31192-a862-436f-af65-89c87a6814d8",
   "metadata": {},
   "outputs": [
    {
     "name": "stderr",
     "output_type": "stream",
     "text": [
      "/workspaces/de-zoomcamp-2024/6_batch/spark/spark-3.3.2-bin-hadoop3/python/pyspark/sql/dataframe.py:229: FutureWarning: Deprecated in 2.0, use createOrReplaceTempView instead.\n",
      "  warnings.warn(\"Deprecated in 2.0, use createOrReplaceTempView instead.\", FutureWarning)\n"
     ]
    }
   ],
   "source": [
    "df_trips_data.registerTempTable('trips_data')"
   ]
  },
  {
   "cell_type": "code",
   "execution_count": 66,
   "id": "dfd80943-9077-495f-830d-ca58b9b9919c",
   "metadata": {},
   "outputs": [
    {
     "name": "stderr",
     "output_type": "stream",
     "text": [
      "[Stage 34:=======================================>                (17 + 7) / 24]\r"
     ]
    },
    {
     "name": "stdout",
     "output_type": "stream",
     "text": [
      "+------------+--------+\n",
      "|service_type|count(1)|\n",
      "+------------+--------+\n",
      "|       green| 2802931|\n",
      "|      yellow|55553400|\n",
      "+------------+--------+\n",
      "\n"
     ]
    },
    {
     "name": "stderr",
     "output_type": "stream",
     "text": [
      "                                                                                \r"
     ]
    }
   ],
   "source": [
    "spark.sql(\"\"\"\n",
    "    SELECT \n",
    "    service_type,count(1)\n",
    "    FROM trips_data\n",
    "    group by service_type\n",
    "\"\"\").show()"
   ]
  },
  {
   "cell_type": "code",
   "execution_count": 67,
   "id": "693810f9-7c76-4e02-b0bb-6b11ce0b6382",
   "metadata": {},
   "outputs": [],
   "source": [
    "df_result = spark.sql(\"\"\"\n",
    "SELECT \n",
    "    -- Reveneue grouping \n",
    "    PULocationID AS revenue_zone,\n",
    "    date_trunc('month', pickup_datetime) AS revenue_month, \n",
    "    service_type, \n",
    "\n",
    "    -- Revenue calculation \n",
    "    SUM(fare_amount) AS revenue_monthly_fare,\n",
    "    SUM(extra) AS revenue_monthly_extra,\n",
    "    SUM(mta_tax) AS revenue_monthly_mta_tax,\n",
    "    SUM(tip_amount) AS revenue_monthly_tip_amount,\n",
    "    SUM(tolls_amount) AS revenue_monthly_tolls_amount,\n",
    "    SUM(improvement_surcharge) AS revenue_monthly_improvement_surcharge,\n",
    "    SUM(total_amount) AS revenue_monthly_total_amount,\n",
    "    SUM(congestion_surcharge) AS revenue_monthly_congestion_surcharge,\n",
    "\n",
    "    -- Additional calculations\n",
    "    AVG(passenger_count) AS avg_montly_passenger_count,\n",
    "    AVG(trip_distance) AS avg_montly_trip_distance\n",
    "FROM\n",
    "    trips_data\n",
    "GROUP BY\n",
    "    1, 2, 3\n",
    "\"\"\")"
   ]
  },
  {
   "cell_type": "code",
   "execution_count": 68,
   "id": "e9faeabb-1c10-4179-a3f0-38a316e92aed",
   "metadata": {},
   "outputs": [
    {
     "name": "stderr",
     "output_type": "stream",
     "text": [
      "[Stage 37:=====================================================>  (23 + 1) / 24]\r"
     ]
    },
    {
     "name": "stdout",
     "output_type": "stream",
     "text": [
      "+------------+-------------------+------------+--------------------+---------------------+-----------------------+--------------------------+----------------------------+-------------------------------------+----------------------------+------------------------------------+--------------------------+------------------------+\n",
      "|revenue_zone|      revenue_month|service_type|revenue_monthly_fare|revenue_monthly_extra|revenue_monthly_mta_tax|revenue_monthly_tip_amount|revenue_monthly_tolls_amount|revenue_monthly_improvement_surcharge|revenue_monthly_total_amount|revenue_monthly_congestion_surcharge|avg_montly_passenger_count|avg_montly_trip_distance|\n",
      "+------------+-------------------+------------+--------------------+---------------------+-----------------------+--------------------------+----------------------------+-------------------------------------+----------------------------+------------------------------------+--------------------------+------------------------+\n",
      "|         250|2020-02-01 00:00:00|       green|  15359.960000000052|               1282.5|                  117.5|        56.010000000000005|           590.3200000000003|                    180.0000000000011|          17598.439999999948|                                11.0|        1.2394957983193278|       4.962810650887576|\n",
      "|         158|2020-02-01 00:00:00|       green|              124.36|                 8.25|                    0.5|                       0.0|                         2.8|                   0.8999999999999999|                      136.81|                                null|                      null|      11.090000000000002|\n",
      "|         229|2020-03-01 00:00:00|       green|              676.36|                  0.0|                    1.0|                       0.0|                       42.84|                    8.099999999999998|           728.3000000000001|                                 0.0|                       1.0|       7.691111111111111|\n",
      "|          15|2020-03-01 00:00:00|       green|  1682.2299999999996|                  5.5|                    6.5|                       0.0|                       79.56|                    19.80000000000002|                     1802.44|                                 0.0|                       1.0|       7.910298507462685|\n",
      "|         152|2020-02-01 00:00:00|       green|   37630.82000000001|              1541.25|                 1398.5|                   2836.66|           538.3700000000003|                    903.8999999999543|           45984.60000000081|                             1336.25|        1.2240055826936498|       2.726403366785373|\n",
      "|         136|2020-03-01 00:00:00|       green|            12226.93|                 60.5|                   89.5|                     32.16|          485.20000000000016|                   163.19999999999916|          13123.940000000013|                                8.25|        1.1637426900584795|       6.487297297297294|\n",
      "|          26|2020-03-01 00:00:00|       green|   9467.539999999999|                 52.5|                   52.0|                       0.0|          184.35000000000002|                   122.99999999999955|           9929.640000000009|                                 0.0|        1.1397849462365592|       5.237601918465228|\n",
      "|         119|2020-03-01 00:00:00|       green|  11026.199999999999|                100.5|                  108.5|                     40.46|           525.8000000000003|                   155.99999999999923|          12021.460000000005|                                8.25|        1.0924369747899159|       5.552723880597014|\n",
      "|         153|2020-03-01 00:00:00|       green|  2039.5400000000004|                 15.0|                   30.5|                     29.79|                        33.4|                    34.80000000000004|           2204.779999999999|                                 0.0|        1.1333333333333333|       4.165042016806724|\n",
      "|         243|2019-12-01 00:00:00|       green|               13.99|                  0.0|                    0.0|                       1.0|                         0.0|                                  0.3|                       15.29|                                 0.0|                       1.0|                     0.0|\n",
      "|          45|2020-03-01 00:00:00|       green|  2403.3900000000003|                 11.0|                    5.0|                       0.0|                        64.0|                   21.300000000000015|                     2506.64|                                 0.0|                       1.2|       9.125633802816902|\n",
      "|          28|2020-03-01 00:00:00|       green|             5891.06|                29.25|                   53.0|         80.32000000000001|          195.84000000000006|                    84.29999999999978|           6368.820000000007|                                2.75|        1.2043795620437956|       5.802602739726025|\n",
      "|         102|2020-03-01 00:00:00|       green|   2874.740000000001|                 26.5|                   17.5|                     40.22|                      104.04|                                 46.2|          3135.6499999999996|                                 5.5|        1.1481481481481481|       4.857922077922077|\n",
      "|          20|2020-01-01 00:00:00|       green|            11375.42|                681.0|                  131.0|                     90.62|           479.8600000000003|                   147.29999999999987|          12923.199999999997|                                11.0|        1.2297872340425533|       4.872311926605503|\n",
      "|         130|2020-03-01 00:00:00|       green|   60166.10000000001|               1436.5|                 1759.0|         4972.700000000003|           731.1700000000004|                   1234.1999999999566|           70458.47000000112|                               74.25|        1.1157574079202437|       3.873904420549586|\n",
      "|          18|2020-03-01 00:00:00|       green|   9502.129999999997|                 69.5|                  100.0|                     78.06|           414.1400000000002|                   136.19999999999942|          10401.980000000018|                                 5.5|        1.1727272727272726|       5.481708860759492|\n",
      "|          12|2020-01-01 00:00:00|       green|  161.01000000000002|                  5.5|                    1.0|                       0.0|                       12.24|                                  1.2|                      180.95|                                null|                      null|      0.7150000000000007|\n",
      "|         248|2019-12-01 00:00:00|       green|                10.0|                  0.5|                    0.5|                       0.0|                         0.0|                                  0.3|                        11.3|                                 0.0|                       1.0|                     2.9|\n",
      "|         182|2020-02-01 00:00:00|       green|   19047.14000000003|               1493.0|                  183.5|         209.7599999999999|           676.0000000000005|                    267.0000000000044|          21901.749999999858|                                16.5|         1.275053304904051|       4.035101832993894|\n",
      "|          53|2020-03-01 00:00:00|       green|              2382.3|                15.25|                   19.5|                     54.99|                       76.24|                   30.600000000000033|           2581.629999999999|                                 5.5|        1.1136363636363635|       6.585048543689322|\n",
      "+------------+-------------------+------------+--------------------+---------------------+-----------------------+--------------------------+----------------------------+-------------------------------------+----------------------------+------------------------------------+--------------------------+------------------------+\n",
      "only showing top 20 rows\n",
      "\n"
     ]
    },
    {
     "name": "stderr",
     "output_type": "stream",
     "text": [
      "                                                                                \r"
     ]
    }
   ],
   "source": [
    "df_result.show()"
   ]
  },
  {
   "cell_type": "code",
   "execution_count": 75,
   "id": "dce5e4f4-4b5e-4dc1-bb01-8a94ade75aa3",
   "metadata": {},
   "outputs": [
    {
     "name": "stderr",
     "output_type": "stream",
     "text": [
      "                                                                                \r"
     ]
    }
   ],
   "source": [
    "df_result.coalesce(1).write.parquet('../code/data/report/revenue/',mode='overwrite')"
   ]
  },
  {
   "cell_type": "code",
   "execution_count": null,
   "id": "c602738e-c1c8-4968-bf0d-105bb97518b2",
   "metadata": {},
   "outputs": [],
   "source": []
  },
  {
   "cell_type": "code",
   "execution_count": null,
   "id": "56712564-933c-4ee7-a6f1-6cd6bb32d444",
   "metadata": {},
   "outputs": [],
   "source": []
  }
 ],
 "metadata": {
  "kernelspec": {
   "display_name": "Python 3 (ipykernel)",
   "language": "python",
   "name": "python3"
  },
  "language_info": {
   "codemirror_mode": {
    "name": "ipython",
    "version": 3
   },
   "file_extension": ".py",
   "mimetype": "text/x-python",
   "name": "python",
   "nbconvert_exporter": "python",
   "pygments_lexer": "ipython3",
   "version": "3.10.13"
  }
 },
 "nbformat": 4,
 "nbformat_minor": 5
}
