{
    "cells": [
        {
            "cell_type": "markdown",
            "metadata": {
                "id": "mrTFv5nPClXh"
            },
            "source": [
                "# **Homework**: Data talks club data engineering zoomcamp Data loading workshop\n",
                "\n",
                "Hello folks, let's practice what we learned - Loading data with the best practices of data engineering.\n",
                "\n",
                "Here are the exercises we will do\n",
                "\n",
                "\n"
            ]
        },
        {
            "cell_type": "markdown",
            "metadata": {
                "id": "wLF4iXf-NR7t"
            },
            "source": [
                "# 1. Use a generator\n",
                "\n",
                "Remember the concept of generator? Let's practice using them to futher our understanding of how they work.\n",
                "\n",
                "Let's define a generator and then run it as practice.\n",
                "\n",
                "**Answer the following questions:**\n",
                "\n",
                "- **Question 1: What is the sum of the outputs of the generator for limit = 5?**\n",
                "- **Question 2: What is the 13th number yielded**\n",
                "\n",
                "I suggest practicing these questions without GPT as the purpose is to further your learning."
            ]
        },
        {
            "cell_type": "code",
            "execution_count": 3,
            "metadata": {
                "colab": {
                    "base_uri": "https://localhost:8080/"
                },
                "id": "wLng-bDJN4jf",
                "outputId": "547683cb-5f56-4815-a903-d0d9578eb1f9"
            },
            "outputs": [
                {
                    "name": "stdout",
                    "output_type": "stream",
                    "text": [
                        "1.0\n",
                        "1.4142135623730951\n",
                        "1.7320508075688772\n",
                        "2.0\n",
                        "2.23606797749979\n"
                    ]
                }
            ],
            "source": [
                "def square_root_generator(limit):\n",
                "    n = 1\n",
                "    while n <= limit:\n",
                "        yield n ** 0.5\n",
                "        n += 1\n",
                "\n",
                "# Example usage:\n",
                "limit = 5\n",
                "generator = square_root_generator(limit)\n",
                "\n",
                "for sqrt_value in generator:\n",
                "    print(sqrt_value)\n"
            ]
        },
        {
            "cell_type": "markdown",
            "metadata": {
                "id": "xbe3q55zN43j"
            },
            "source": []
        },
        {
            "cell_type": "markdown",
            "metadata": {},
            "source": [
                "- **Question 1: What is the sum of the outputs of the generator for limit = 5?**"
            ]
        },
        {
            "cell_type": "code",
            "execution_count": 39,
            "metadata": {},
            "outputs": [
                {
                    "name": "stdout",
                    "output_type": "stream",
                    "text": [
                        "Sum of square roots for limit = 5 : 8.382332347441762\n"
                    ]
                }
            ],
            "source": [
                "limit=5\n",
                "\n",
                "generator=square_root_generator(limit)\n",
                "\n",
                "sum_of_square_roots= sum(sqrt_value for sqrt_value in generator)\n",
                "\n",
                "print(\"Sum of square roots for limit =\", limit, \":\", sum_of_square_roots)\n",
                "\n"
            ]
        },
        {
            "cell_type": "markdown",
            "metadata": {},
            "source": [
                "- **Question 2: What is the 13th number yielded**"
            ]
        },
        {
            "cell_type": "code",
            "execution_count": 41,
            "metadata": {},
            "outputs": [
                {
                    "name": "stdout",
                    "output_type": "stream",
                    "text": [
                        "The 13th number yielded: 3.605551275463989\n"
                    ]
                }
            ],
            "source": [
                "limit=13\n",
                "\n",
                "generator=square_root_generator(limit)\n",
                "\n",
                "for _ in range(12):\n",
                "    next(generator)\n",
                "\n",
                "\n",
                "thirteenth_number = next(generator)\n",
                "\n",
                "print(\"The 13th number yielded:\", thirteenth_number)\n",
                "\n"
            ]
        },
        {
            "cell_type": "markdown",
            "metadata": {
                "id": "vjWhILzGJMpK"
            },
            "source": [
                "# 2. Append a generator to a table with existing data\n",
                "\n",
                "\n",
                "Below you have 2 generators. You will be tasked to load them to duckdb and answer some questions from the data\n",
                "\n",
                "1. Load the first generator and calculate the sum of ages of all people. Make sure to only load it once.\n",
                "2. Append the second generator to the same table as the first.\n",
                "3. **After correctly appending the data, calculate the sum of all ages of people.**\n",
                "\n",
                "\n"
            ]
        },
        {
            "cell_type": "code",
            "execution_count": null,
            "metadata": {
                "colab": {
                    "base_uri": "https://localhost:8080/"
                },
                "id": "2MoaQcdLBEk6",
                "outputId": "d2b93dc1-d83f-44ea-aeff-fdf51d75f7aa"
            },
            "outputs": [
                {
                    "name": "stdout",
                    "output_type": "stream",
                    "text": [
                        "{'ID': 1, 'Name': 'Person_1', 'Age': 26, 'City': 'City_A'}\n",
                        "{'ID': 2, 'Name': 'Person_2', 'Age': 27, 'City': 'City_A'}\n",
                        "{'ID': 3, 'Name': 'Person_3', 'Age': 28, 'City': 'City_A'}\n",
                        "{'ID': 4, 'Name': 'Person_4', 'Age': 29, 'City': 'City_A'}\n",
                        "{'ID': 5, 'Name': 'Person_5', 'Age': 30, 'City': 'City_A'}\n",
                        "{'ID': 3, 'Name': 'Person_3', 'Age': 33, 'City': 'City_B', 'Occupation': 'Job_3'}\n",
                        "{'ID': 4, 'Name': 'Person_4', 'Age': 34, 'City': 'City_B', 'Occupation': 'Job_4'}\n",
                        "{'ID': 5, 'Name': 'Person_5', 'Age': 35, 'City': 'City_B', 'Occupation': 'Job_5'}\n",
                        "{'ID': 6, 'Name': 'Person_6', 'Age': 36, 'City': 'City_B', 'Occupation': 'Job_6'}\n",
                        "{'ID': 7, 'Name': 'Person_7', 'Age': 37, 'City': 'City_B', 'Occupation': 'Job_7'}\n",
                        "{'ID': 8, 'Name': 'Person_8', 'Age': 38, 'City': 'City_B', 'Occupation': 'Job_8'}\n"
                    ]
                }
            ],
            "source": [
                "def people_1():\n",
                "    for i in range(1, 6):\n",
                "        yield {\"ID\": i, \"Name\": f\"Person_{i}\", \"Age\": 25 + i, \"City\": \"City_A\"}\n",
                "\n",
                "for person in people_1():\n",
                "    print(person)\n",
                "\n",
                "\n",
                "def people_2():\n",
                "    for i in range(3, 9):\n",
                "        yield {\"ID\": i, \"Name\": f\"Person_{i}\", \"Age\": 30 + i, \"City\": \"City_B\", \"Occupation\": f\"Job_{i}\"}\n",
                "\n",
                "\n",
                "for person in people_2():\n",
                "    print(person)\n"
            ]
        },
        {
            "cell_type": "markdown",
            "metadata": {
                "id": "vtdTIm4fvQCN"
            },
            "source": []
        },
        {
            "cell_type": "markdown",
            "metadata": {},
            "source": [
                "1. Load the first generator and calculate the sum of ages of all people. Make sure to only load it once."
            ]
        },
        {
            "cell_type": "code",
            "execution_count": 49,
            "metadata": {},
            "outputs": [
                {
                    "name": "stdout",
                    "output_type": "stream",
                    "text": [
                        "Requirement already satisfied: dlt[duckdb] in /usr/local/python/3.10.13/lib/python3.10/site-packages (0.4.2)\n",
                        "Requirement already satisfied: PyYAML>=5.4.1 in /home/codespace/.local/lib/python3.10/site-packages (from dlt[duckdb]) (6.0.1)\n",
                        "Requirement already satisfied: SQLAlchemy>=1.4.0 in /usr/local/python/3.10.13/lib/python3.10/site-packages (from dlt[duckdb]) (2.0.25)\n",
                        "Requirement already satisfied: astunparse>=1.6.3 in /usr/local/python/3.10.13/lib/python3.10/site-packages (from dlt[duckdb]) (1.6.3)\n",
                        "Requirement already satisfied: click>=7.1 in /usr/local/python/3.10.13/lib/python3.10/site-packages (from dlt[duckdb]) (8.1.7)\n",
                        "Requirement already satisfied: fsspec>=2022.4.0 in /home/codespace/.local/lib/python3.10/site-packages (from dlt[duckdb]) (2023.12.1)\n",
                        "Requirement already satisfied: gitpython>=3.1.29 in /home/codespace/.local/lib/python3.10/site-packages (from dlt[duckdb]) (3.1.40)\n",
                        "Requirement already satisfied: giturlparse>=0.10.0 in /usr/local/python/3.10.13/lib/python3.10/site-packages (from dlt[duckdb]) (0.12.0)\n",
                        "Requirement already satisfied: hexbytes>=0.2.2 in /usr/local/python/3.10.13/lib/python3.10/site-packages (from dlt[duckdb]) (1.0.0)\n",
                        "Requirement already satisfied: humanize>=4.4.0 in /usr/local/python/3.10.13/lib/python3.10/site-packages (from dlt[duckdb]) (4.9.0)\n",
                        "Requirement already satisfied: jsonpath-ng>=1.5.3 in /usr/local/python/3.10.13/lib/python3.10/site-packages (from dlt[duckdb]) (1.6.1)\n",
                        "Requirement already satisfied: makefun>=1.15.0 in /usr/local/python/3.10.13/lib/python3.10/site-packages (from dlt[duckdb]) (1.15.2)\n",
                        "Requirement already satisfied: orjson>=3.6.7 in /usr/local/python/3.10.13/lib/python3.10/site-packages (from dlt[duckdb]) (3.9.13)\n",
                        "Requirement already satisfied: packaging>=21.1 in /home/codespace/.local/lib/python3.10/site-packages (from dlt[duckdb]) (23.2)\n",
                        "Requirement already satisfied: pathvalidate>=2.5.2 in /usr/local/python/3.10.13/lib/python3.10/site-packages (from dlt[duckdb]) (3.2.0)\n",
                        "Requirement already satisfied: pendulum>=2.1.2 in /usr/local/python/3.10.13/lib/python3.10/site-packages (from dlt[duckdb]) (3.0.0)\n",
                        "Requirement already satisfied: pytz>=2022.6 in /home/codespace/.local/lib/python3.10/site-packages (from dlt[duckdb]) (2023.3.post1)\n",
                        "Requirement already satisfied: requests>=2.26.0 in /home/codespace/.local/lib/python3.10/site-packages (from dlt[duckdb]) (2.31.0)\n",
                        "Requirement already satisfied: requirements-parser>=0.5.0 in /usr/local/python/3.10.13/lib/python3.10/site-packages (from dlt[duckdb]) (0.5.0)\n",
                        "Requirement already satisfied: semver>=2.13.0 in /usr/local/python/3.10.13/lib/python3.10/site-packages (from dlt[duckdb]) (3.0.2)\n",
                        "Requirement already satisfied: setuptools>=65.6.0 in /usr/local/python/3.10.13/lib/python3.10/site-packages (from dlt[duckdb]) (68.2.2)\n",
                        "Requirement already satisfied: simplejson>=3.17.5 in /usr/local/python/3.10.13/lib/python3.10/site-packages (from dlt[duckdb]) (3.19.2)\n",
                        "Requirement already satisfied: tenacity>=8.0.2 in /home/codespace/.local/lib/python3.10/site-packages (from dlt[duckdb]) (8.2.3)\n",
                        "Requirement already satisfied: tomlkit>=0.11.3 in /usr/local/python/3.10.13/lib/python3.10/site-packages (from dlt[duckdb]) (0.12.3)\n",
                        "Requirement already satisfied: typing-extensions>=4.0.0 in /home/codespace/.local/lib/python3.10/site-packages (from dlt[duckdb]) (4.8.0)\n",
                        "Requirement already satisfied: tzdata>=2022.1 in /home/codespace/.local/lib/python3.10/site-packages (from dlt[duckdb]) (2023.3)\n",
                        "Collecting duckdb<0.10.0,>=0.6.1 (from dlt[duckdb])\n",
                        "  Downloading duckdb-0.9.2-cp310-cp310-manylinux_2_17_x86_64.manylinux2014_x86_64.whl.metadata (760 bytes)\n",
                        "Requirement already satisfied: wheel<1.0,>=0.23.0 in /usr/local/python/3.10.13/lib/python3.10/site-packages (from astunparse>=1.6.3->dlt[duckdb]) (0.42.0)\n",
                        "Requirement already satisfied: six<2.0,>=1.6.1 in /home/codespace/.local/lib/python3.10/site-packages (from astunparse>=1.6.3->dlt[duckdb]) (1.16.0)\n",
                        "Requirement already satisfied: gitdb<5,>=4.0.1 in /home/codespace/.local/lib/python3.10/site-packages (from gitpython>=3.1.29->dlt[duckdb]) (4.0.11)\n",
                        "Requirement already satisfied: ply in /usr/local/python/3.10.13/lib/python3.10/site-packages (from jsonpath-ng>=1.5.3->dlt[duckdb]) (3.11)\n",
                        "Requirement already satisfied: python-dateutil>=2.6 in /home/codespace/.local/lib/python3.10/site-packages (from pendulum>=2.1.2->dlt[duckdb]) (2.8.2)\n",
                        "Requirement already satisfied: time-machine>=2.6.0 in /usr/local/python/3.10.13/lib/python3.10/site-packages (from pendulum>=2.1.2->dlt[duckdb]) (2.13.0)\n",
                        "Requirement already satisfied: charset-normalizer<4,>=2 in /home/codespace/.local/lib/python3.10/site-packages (from requests>=2.26.0->dlt[duckdb]) (3.3.2)\n",
                        "Requirement already satisfied: idna<4,>=2.5 in /home/codespace/.local/lib/python3.10/site-packages (from requests>=2.26.0->dlt[duckdb]) (3.6)\n",
                        "Requirement already satisfied: urllib3<3,>=1.21.1 in /usr/local/python/3.10.13/lib/python3.10/site-packages (from requests>=2.26.0->dlt[duckdb]) (2.0.7)\n",
                        "Requirement already satisfied: certifi>=2017.4.17 in /home/codespace/.local/lib/python3.10/site-packages (from requests>=2.26.0->dlt[duckdb]) (2023.11.17)\n",
                        "Requirement already satisfied: types-setuptools>=57.0.0 in /usr/local/python/3.10.13/lib/python3.10/site-packages (from requirements-parser>=0.5.0->dlt[duckdb]) (69.0.0.20240125)\n",
                        "Requirement already satisfied: greenlet!=0.4.17 in /usr/local/python/3.10.13/lib/python3.10/site-packages (from SQLAlchemy>=1.4.0->dlt[duckdb]) (3.0.3)\n",
                        "Requirement already satisfied: smmap<6,>=3.0.1 in /home/codespace/.local/lib/python3.10/site-packages (from gitdb<5,>=4.0.1->gitpython>=3.1.29->dlt[duckdb]) (5.0.1)\n",
                        "Downloading duckdb-0.9.2-cp310-cp310-manylinux_2_17_x86_64.manylinux2014_x86_64.whl (16.5 MB)\n",
                        "\u001b[2K   \u001b[90m━━━━━━━━━━━━━━━━━━━━━━━━━━━━━━━━━━━━━━━━\u001b[0m \u001b[32m16.5/16.5 MB\u001b[0m \u001b[31m42.2 MB/s\u001b[0m eta \u001b[36m0:00:00\u001b[0m:00:01\u001b[0m00:01\u001b[0m\n",
                        "\u001b[?25hInstalling collected packages: duckdb\n",
                        "Successfully installed duckdb-0.9.2\n",
                        "\n",
                        "\u001b[1m[\u001b[0m\u001b[34;49mnotice\u001b[0m\u001b[1;39;49m]\u001b[0m\u001b[39;49m A new release of pip is available: \u001b[0m\u001b[31;49m23.3.1\u001b[0m\u001b[39;49m -> \u001b[0m\u001b[32;49m24.0\u001b[0m\n",
                        "\u001b[1m[\u001b[0m\u001b[34;49mnotice\u001b[0m\u001b[1;39;49m]\u001b[0m\u001b[39;49m To update, run: \u001b[0m\u001b[32;49mpython -m pip install --upgrade pip\u001b[0m\n"
                    ]
                }
            ],
            "source": [
                "!pip install \"dlt[duckdb]\""
            ]
        },
        {
            "cell_type": "code",
            "execution_count": 51,
            "metadata": {},
            "outputs": [],
            "source": [
                "import dlt\n",
                "\n",
                "# Define the generator\n",
                "def people_1():\n",
                "    for i in range(1, 6):\n",
                "        yield {\"ID\": i, \"Name\": f\"Person_{i}\", \"Age\": 25 + i, \"City\": \"City_A\"}\n",
                "\n",
                "# Initialize a DLT pipeline\n",
                "pipeline = dlt.pipeline(pipeline_name=\"person\",\n",
                "                        destination='duckdb', \n",
                "                        dataset_name='person.people')  # Specify fully qualified path\n",
                "\n",
                "# Run the pipeline with the data from the generator\n",
                "info = pipeline.run(people_1(), \n",
                "                    table_name=\"people\", \n",
                "                    write_disposition=\"replace\")\n"
            ]
        },
        {
            "cell_type": "code",
            "execution_count": 63,
            "metadata": {},
            "outputs": [
                {
                    "name": "stdout",
                    "output_type": "stream",
                    "text": [
                        "28.0\n"
                    ]
                }
            ],
            "source": [
                "pipeline = dlt.pipeline(pipeline_name=\"person\",\n",
                "                        destination='duckdb', \n",
                "                        dataset_name='person.people')\n",
                "try:\n",
                "    with pipeline.sql_client() as client:\n",
                "        res = client.execute_sql(\n",
                "            \"SELECT AVG(age) FROM people\"\n",
                "        )\n",
                "        average_age = res[0][0] \n",
                "        print(average_age)\n",
                "except Exception as e:\n",
                "    print(\"An error occurred:\", e)"
            ]
        },
        {
            "cell_type": "markdown",
            "metadata": {},
            "source": [
                "2. Append the second generator to the same table as the first."
            ]
        },
        {
            "cell_type": "code",
            "execution_count": 64,
            "metadata": {},
            "outputs": [
                {
                    "name": "stdout",
                    "output_type": "stream",
                    "text": [
                        "[(1, 'Person_1', 26, 'City_A', '1707291104.4063938', 'TT4qdc6xCa0j/A', None), (2, 'Person_2', 27, 'City_A', '1707291104.4063938', 'vL3nGH1R3Y6YsA', None), (3, 'Person_3', 28, 'City_A', '1707291104.4063938', 'EAdzRs43x7Mnig', None), (4, 'Person_4', 29, 'City_A', '1707291104.4063938', 'T9CvH1C5CHusFg', None), (5, 'Person_5', 30, 'City_A', '1707291104.4063938', 'u/V/Om964I2/uA', None), (3, 'Person_3', 33, 'City_B', '1707292378.7985077', 'lpELSLYvGgM6lA', 'Job_3'), (4, 'Person_4', 34, 'City_B', '1707292378.7985077', 'sj+9nDqrixYfJA', 'Job_4'), (5, 'Person_5', 35, 'City_B', '1707292378.7985077', 'Yd3W2XAWtaSnEw', 'Job_5'), (6, 'Person_6', 36, 'City_B', '1707292378.7985077', '5y5rcqh1eJQn1Q', 'Job_6'), (7, 'Person_7', 37, 'City_B', '1707292378.7985077', 'wXbgkQXNrj5zuw', 'Job_7'), (8, 'Person_8', 38, 'City_B', '1707292378.7985077', '1B5g1dGBZR1GAg', 'Job_8')]\n"
                    ]
                }
            ],
            "source": [
                "def people_2():\n",
                "    for i in range(3, 9):\n",
                "        yield {\"ID\": i, \"Name\": f\"Person_{i}\", \"Age\": 30 + i, \"City\": \"City_B\", \"Occupation\": f\"Job_{i}\"}\n",
                "\n",
                "info = pipeline.run(people_2(), \n",
                "\t\t\t\t\ttable_name=\"people\", \n",
                "\t\t\t\t\twrite_disposition=\"append\")\n",
                "\n",
                "try:\n",
                "    with pipeline.sql_client() as client:\n",
                "        res = client.execute_sql(\n",
                "            \"SELECT * FROM people\"\n",
                "        )\n",
                "        print(res)\n",
                "except Exception as e:\n",
                "    print(\"An error occurred:\", e)\n"
            ]
        },
        {
            "cell_type": "code",
            "execution_count": 65,
            "metadata": {},
            "outputs": [
                {
                    "name": "stdout",
                    "output_type": "stream",
                    "text": [
                        "Requirement already satisfied: tabulate in /usr/local/python/3.10.13/lib/python3.10/site-packages (0.9.0)\n",
                        "\n",
                        "\u001b[1m[\u001b[0m\u001b[34;49mnotice\u001b[0m\u001b[1;39;49m]\u001b[0m\u001b[39;49m A new release of pip is available: \u001b[0m\u001b[31;49m23.3.1\u001b[0m\u001b[39;49m -> \u001b[0m\u001b[32;49m24.0\u001b[0m\n",
                        "\u001b[1m[\u001b[0m\u001b[34;49mnotice\u001b[0m\u001b[1;39;49m]\u001b[0m\u001b[39;49m To update, run: \u001b[0m\u001b[32;49mpython -m pip install --upgrade pip\u001b[0m\n"
                    ]
                }
            ],
            "source": [
                "!pip install tabulate"
            ]
        },
        {
            "cell_type": "code",
            "execution_count": 72,
            "metadata": {},
            "outputs": [
                {
                    "name": "stdout",
                    "output_type": "stream",
                    "text": [
                        "  ID  Name        Age  City      dlt_load_id  _dlt_id         Occupation\n",
                        "----  --------  -----  ------  -------------  --------------  ------------\n",
                        "   1  Person_1     26  City_A    1.70729e+09  TT4qdc6xCa0j/A\n",
                        "   2  Person_2     27  City_A    1.70729e+09  vL3nGH1R3Y6YsA\n",
                        "   3  Person_3     28  City_A    1.70729e+09  EAdzRs43x7Mnig\n",
                        "   4  Person_4     29  City_A    1.70729e+09  T9CvH1C5CHusFg\n",
                        "   5  Person_5     30  City_A    1.70729e+09  u/V/Om964I2/uA\n",
                        "   3  Person_3     33  City_B    1.70729e+09  lpELSLYvGgM6lA  Job_3\n",
                        "   4  Person_4     34  City_B    1.70729e+09  sj+9nDqrixYfJA  Job_4\n",
                        "   5  Person_5     35  City_B    1.70729e+09  Yd3W2XAWtaSnEw  Job_5\n",
                        "   6  Person_6     36  City_B    1.70729e+09  5y5rcqh1eJQn1Q  Job_6\n",
                        "   7  Person_7     37  City_B    1.70729e+09  wXbgkQXNrj5zuw  Job_7\n",
                        "   8  Person_8     38  City_B    1.70729e+09  1B5g1dGBZR1GAg  Job_8\n"
                    ]
                }
            ],
            "source": [
                "from tabulate import tabulate\n",
                "\n",
                "# Convert the result set to a list of lists and format the age column\n",
                "rows = []\n",
                "for row in res:\n",
                "    formatted_row = list(row)\n",
                "    formatted_row[2] = int(formatted_row[2])  # Convert age to integer\n",
                "    # Rearrange the elements in the list to match the column order: ID, Name, Age, City, Occupation\n",
                "    formatted_row = [formatted_row[0], formatted_row[1], formatted_row[2],formatted_row[3], formatted_row[4], formatted_row[5], formatted_row[6]]\n",
                "    rows.append(formatted_row)\n",
                "\n",
                "# Define column headers\n",
                "headers = [\"ID\", \"Name\", \"Age\", \"City\", \"dlt_load_id\",\"_dlt_id\",\"Occupation\"]\n",
                "\n",
                "# Print the data in a tabular format\n",
                "print(tabulate(rows, headers=headers))\n"
            ]
        },
        {
            "cell_type": "markdown",
            "metadata": {},
            "source": [
                "3. **After correctly appending the data, calculate the sum of all ages of people.**"
            ]
        },
        {
            "cell_type": "code",
            "execution_count": 74,
            "metadata": {},
            "outputs": [
                {
                    "name": "stdout",
                    "output_type": "stream",
                    "text": [
                        "Total age of all people: 353\n"
                    ]
                }
            ],
            "source": [
                "import dlt\n",
                "\n",
                "# Create a DLT pipeline\n",
                "pipeline = dlt.pipeline(pipeline_name=\"person\",\n",
                "                        destination='duckdb', \n",
                "                        dataset_name='person.people')\n",
                "\n",
                "query = \"SELECT SUM(age) AS total_age FROM people\"\n",
                "\n",
                "try:\n",
                "    # Execute the SQL query within a context manager\n",
                "    with pipeline.sql_client() as client:\n",
                "        # Execute the SQL query\n",
                "        res = client.execute_sql(query)\n",
                "        \n",
                "        # Fetch the result\n",
                "        total_age = res[0][0]  # Access the first element of the first tuple\n",
                "\n",
                "        # Print the total age\n",
                "        print(\"Total age of all people:\", total_age)\n",
                "except Exception as e:\n",
                "    print(\"An error occurred:\", e)"
            ]
        },
        {
            "cell_type": "markdown",
            "metadata": {
                "id": "pY4cFAWOSwN1"
            },
            "source": [
                "# 3. Merge a generator\n",
                "\n",
                "Re-use the generators from Exercise 2.\n",
                "\n",
                "A table's primary key needs to be created from the start, so load your data to a new table with primary key ID.\n",
                "\n",
                "Load your first generator first, and then load the second one with merge. Since they have overlapping IDs, some of the records from the first load should be replaced by the ones from the second load.\n",
                "\n",
                "After loading, you should have a total of 8 records, and ID 3 should have age 33.\n",
                "\n",
                "Question: **Calculate the sum of ages of all the people loaded as described above.**\n"
            ]
        },
        {
            "cell_type": "code",
            "execution_count": 98,
            "metadata": {},
            "outputs": [
                {
                    "name": "stdout",
                    "output_type": "stream",
                    "text": [
                        "Total sum of ages of all people: 266\n"
                    ]
                }
            ],
            "source": [
                "import dlt\n",
                "@dlt.resource(write_disposition='merge', merge_key=('id'))\n",
                "\n",
                "# Define the generators\n",
                "def people_1():\n",
                "    for i in range(1, 6):\n",
                "        yield {\"ID\": i, \"Name\": f\"Person_{i}\", \"Age\": 25 + i, \"City\": \"City_A\"}\n",
                "\n",
                "def people_2():\n",
                "    for i in range(3, 9):\n",
                "        yield {\"ID\": i, \"Name\": f\"Person_{i}\", \"Age\": 30 + i, \"City\": \"City_B\", \"Occupation\": f\"Job_{i}\"}\n",
                "\n",
                "# Create a DLT pipeline\n",
                "pipeline = dlt.pipeline(pipeline_name=\"person\",\n",
                "                        destination='duckdb', \n",
                "                        dataset_name='person.people')\n",
                "\n",
                "# Load data from the first generator into the \"people\" table\n",
                "info_1 = pipeline.run(people_1(), \n",
                "                      table_name=\"people\",\n",
                "                      write_disposition=\"replace\")\n",
                "\n",
                "# Merge data from the second generator into the \"people\" table, replacing any existing records\n",
                "info_2 = pipeline.run(people_2(), \n",
                "                      table_name=\"people\", \n",
                "                      write_disposition=\"merge\")\n",
                "\n",
                "# Calculate the sum of ages of all the people loaded\n",
                "try:\n",
                "    # Execute a SQL query to calculate the sum of ages\n",
                "    with pipeline.sql_client() as client:\n",
                "        query = \"SELECT SUM(Age) FROM people\"  # Change table name here\n",
                "        result = client.execute_sql(query)\n",
                "        total_age = result[0][0]\n",
                "        print(\"Total sum of ages of all people:\", total_age)\n",
                "except Exception as e:\n",
                "    print(\"An error occurred:\", e)\n"
            ]
        },
        {
            "cell_type": "code",
            "execution_count": 102,
            "metadata": {},
            "outputs": [
                {
                    "name": "stdout",
                    "output_type": "stream",
                    "text": [
                        "  ID  Name        Age  City      dlt_load_id  _dlt_id         Occupation\n",
                        "----  --------  -----  ------  -------------  --------------  ------------\n",
                        "   1  Person_1     26  City_A     1.7073e+09  i0ElzoDBqekyGg\n",
                        "   2  Person_2     27  City_A     1.7073e+09  OklctpOHEiMaNg\n",
                        "   3  Person_3     33  City_B     1.7073e+09  BEsBZhHm1YmjEg  Job_3\n",
                        "   4  Person_4     34  City_B     1.7073e+09  g/5woNTzjjc6zQ  Job_4\n",
                        "   5  Person_5     35  City_B     1.7073e+09  Cmpt6AKWj/3yJw  Job_5\n",
                        "   6  Person_6     36  City_B     1.7073e+09  mrgSO3vOyEuNRQ  Job_6\n",
                        "   7  Person_7     37  City_B     1.7073e+09  aLma/X87bj1TvA  Job_7\n",
                        "   8  Person_8     38  City_B     1.7073e+09  c6anbvp7X6XNbA  Job_8\n"
                    ]
                }
            ],
            "source": [
                "try:\n",
                "    with pipeline.sql_client() as client:\n",
                "        res = client.execute_sql(\n",
                "            \"SELECT * FROM people\"\n",
                "        )\n",
                "except Exception as e:\n",
                "    print(\"An error occurred:\", e)\n",
                "\n",
                "from tabulate import tabulate\n",
                "\n",
                "# Convert the result set to a list of lists and format the age column\n",
                "rows = []\n",
                "for row in res:\n",
                "    formatted_row = list(row)\n",
                "    formatted_row[2] = int(formatted_row[2])  # Convert age to integer\n",
                "    # Rearrange the elements in the list to match the column order: ID, Name, Age, City, Occupation\n",
                "    formatted_row = [formatted_row[0], formatted_row[1], formatted_row[2],formatted_row[3], formatted_row[4], formatted_row[5], formatted_row[6]]\n",
                "    rows.append(formatted_row)\n",
                "\n",
                "# Define column headers\n",
                "headers = [\"ID\", \"Name\", \"Age\", \"City\", \"dlt_load_id\",\"_dlt_id\",\"Occupation\"]\n",
                "\n",
                "# Print the data in a tabular format\n",
                "print(tabulate(rows, headers=headers))\n"
            ]
        },
        {
            "cell_type": "markdown",
            "metadata": {
                "id": "kKB2GTB9oVjr"
            },
            "source": [
                "# Solution: First make sure that the following modules are installed:"
            ]
        },
        {
            "cell_type": "code",
            "execution_count": null,
            "metadata": {
                "id": "xTVvtyqrfVNq"
            },
            "outputs": [],
            "source": [
                "#Install the dependencies\n",
                "%%capture\n",
                "!pip install dlt[duckdb]"
            ]
        },
        {
            "cell_type": "code",
            "execution_count": null,
            "metadata": {
                "id": "a2-PRBAkGC2K"
            },
            "outputs": [],
            "source": [
                "# to do: homework :)"
            ]
        },
        {
            "cell_type": "markdown",
            "metadata": {
                "id": "PoTJu4kbGG0z"
            },
            "source": [
                "Questions? difficulties? We are here to help.\n",
                "- DTC data engineering course channel: https://datatalks-club.slack.com/archives/C01FABYF2RG\n",
                "- dlt's DTC cohort channel: https://dlthub-community.slack.com/archives/C06GAEX2VNX"
            ]
        }
    ],
    "metadata": {
        "colab": {
            "provenance": []
        },
        "kernelspec": {
            "display_name": "Python 3",
            "name": "python3"
        },
        "language_info": {
            "codemirror_mode": {
                "name": "ipython",
                "version": 3
            },
            "file_extension": ".py",
            "mimetype": "text/x-python",
            "name": "python",
            "nbconvert_exporter": "python",
            "pygments_lexer": "ipython3",
            "version": "3.10.13"
        }
    },
    "nbformat": 4,
    "nbformat_minor": 0
}
